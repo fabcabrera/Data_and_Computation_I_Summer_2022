{
 "cells": [
  {
   "cell_type": "markdown",
   "id": "5c940de4",
   "metadata": {},
   "source": [
    "## Homework 2\n",
    "\n",
    "This homework has two parts called Homework  2a and Homework  2b\n",
    "\n",
    "Please submit your answers in a Jupyter notebook."
   ]
  },
  {
   "cell_type": "markdown",
   "id": "40ba1fe0",
   "metadata": {},
   "source": [
    "## Homework 2a\n",
    "\n",
    "Background texts for the problems descrbed below are these three quantecon lectures:\n",
    "\n",
    "https://python.quantecon.org/lqcontrol.html\n",
    "\n",
    "https://python.quantecon.org/multivariate_normal.html\n",
    "\n",
    "https://python.quantecon.org/time_series_with_matrices.html\n",
    "\n",
    "\n",
    "Please feel free to use classes from quantecon as \"black boxes\" to help you solve help problems"
   ]
  },
  {
   "cell_type": "markdown",
   "id": "4149fe59",
   "metadata": {},
   "source": [
    "### Question 1\n",
    "\n",
    "Please consider the stochastic version of Samuelson' model as represented in this lecture\n",
    "\n",
    "https://python.quantecon.org/time_series_with_matrices.html\n",
    "\n",
    "For the parameters set in that lecture, please represent the time series $y$ defined there in the form\n",
    "\n",
    "$$ \n",
    "y = A^{-1} (b + u) \\tag{1}\n",
    "$$\n",
    "\n",
    "a. Please print out $A^{-1}$ and comment on its structure -- i.e., is it triangular or almost triangular or $\\ldots$ ?\n",
    "\n",
    "b. Please interpret equation (1) as a **moving average** representation.\n",
    "\n",
    "c. As $t$ gets large, do you notice any patterns in the rows of $A^{-1}$? If so, interpret them.\n",
    "\n",
    "d. What do you think will happen to the rows  of $A^{-1}$ as $t \\rightarrow + \\infty$?\n",
    "\n"
   ]
  },
  {
   "cell_type": "markdown",
   "id": "1052974c",
   "metadata": {},
   "source": [
    "### Question 2\n",
    "\n",
    "Please use the quantecon class **quantecon.LQ** to answer this question.\n",
    "\n",
    "Consider an infinite-horizon undiscounted linear-quadratic dynamic programming problems with the \n",
    "matrices $A, B, C, Q, R$ being set to the scalars $a, b, c, q, r$ with the particular values\n",
    "$1, 1, 0, 1, 1$ and set $\\beta = 1$. \n",
    "\n",
    "Where $x_0$ is a scalar at time $0$, let the optimal value function be $p x_0^2$.\n",
    "\n",
    "a. Please compute $p$ and a scalar $f$ that pins down an optimal decision rule $u_t =- f x_t$.\n",
    "\n",
    "b. **Extra Credit:** Stare at the values of $p$ and $f$ and say if they remind you of anything.\n",
    "\n",
    "**Hints:** \n",
    "\n",
    "  * Part a. Run this Python command and study the output: **help(qe.LQ.stationary_values)**\n",
    "\n",
    "  * Part b. Please read https://en.wikipedia.org/wiki/Golden_ratio\n",
    "\n",
    "\n"
   ]
  },
  {
   "cell_type": "markdown",
   "id": "21efafa6-e457-4585-b239-1bc7f79086a9",
   "metadata": {},
   "source": [
    "## Homework 2b"
   ]
  },
  {
   "cell_type": "markdown",
   "id": "ef7b02f7-ca03-4224-8241-bfaa7d920f92",
   "metadata": {},
   "source": [
    "Background texts for the problems described below are these two quantecon lectures:\n",
    "\n",
    " <https://python.quantecon.org/multivariate_normal.html>\n",
    "\n",
    "and\n",
    "\n",
    "<https://python.quantecon.org/time_series_with_matrices.html>\n"
   ]
  },
  {
   "cell_type": "markdown",
   "id": "3abbf6ea-4a00-4ac6-8303-6b7261261a4f",
   "metadata": {},
   "source": [
    "## The Setting\n",
    "\n",
    "\n",
    "For $t =0,1, 2, \\ldots, T$, the aggregate capital stock $k_t$ evolves over time according to\n",
    "\n",
    "$$\n",
    "\\begin{aligned}\n",
    "k_{t+1} & = (1-\\delta) k_t + i_t - c_t + \\sigma_1 \\epsilon_{t+1} \\cr\n",
    "\\begin{bmatrix}\n",
    "i_t \\cr c_t \n",
    "\\end{bmatrix} & = G k_t + v_t \\cr\n",
    "\\epsilon_{t+1} & \\sim \\textrm{i.i.d.} {\\mathcal N} (0, 1) \\cr\n",
    "v_t & \\sim {\\mathcal N}(0, R)  \\cr\n",
    "k_0 & = {\\mathcal N}(\\overline k_0, \\sigma_2^2)\n",
    "\\end{aligned}\n",
    "$$\n",
    "\n",
    "Here $G$ is a $2 \\times 1$ vector of parameters that describe marginal propensities to consume and invest out of capital, the parameter  $\\delta \\in (0,1)$ is a depreciation rate,  $R$ is a $2 \\times 2$ covariance matrix of structural  shocks $v_t$ to consumption and investment, and $\\epsilon_{t+1}$ is a structural shock to capital accumulation coming from weather or a political conflict."
   ]
  },
  {
   "cell_type": "markdown",
   "id": "7e5f31d5-f9fc-495b-a7bc-eb5e2f9cccef",
   "metadata": {},
   "source": [
    "## The homework problem"
   ]
  },
  {
   "cell_type": "markdown",
   "id": "efd2f86c-c3bd-436b-b10b-4b50f410c533",
   "metadata": {},
   "source": [
    "### Part 1\n",
    "\n",
    "Define two random vectors\n",
    "\n",
    "$$\n",
    "\\begin{aligned}\n",
    "\\begin{bmatrix}\n",
    "k_0 \\cr\n",
    "k_1 \\cr\n",
    "\\vdots \\cr\n",
    "k_{T+1} \\cr\n",
    "\\end{bmatrix} & = z_1 \\cr\n",
    "\\begin{bmatrix}\n",
    "i_0 \\cr\n",
    "\\vdots \\cr\n",
    "i_T \\cr\n",
    "c_0 \\cr\n",
    "\\vdots \\cr\n",
    "c_T \n",
    "\\end{bmatrix} & = z_2\n",
    "\\end{aligned}\n",
    "$$\n",
    "\n",
    "and a stacked random vector\n",
    "\n",
    "$$\n",
    "z = \\begin{bmatrix} z_1 \\cr z_2 \\end{bmatrix} .\n",
    "$$\n",
    "\n",
    "\n",
    "1. Verify that $z \\sim {\\mathcal N}(\\mu, \\Sigma) $ for a vector $\\mu$ and a population covariance matrix $\\Sigma$.\n",
    "\n",
    "\n",
    "2.  Please provide analytic formulas for $\\mu $ and $\\Sigma$ as functions of the deeper parameters\n",
    "$\\delta, \\sigma_1, \\sigma_2, R, G, \\bar k_0$. \n",
    "\n",
    "3.  Write a Python class to compute $\\mu, \\Sigma$ for instances of this setting.\n",
    "\n",
    "4. Verify that the conditional probability distribution of $z_1 $ conditional on $z_2$ is \n",
    "multivariate normal. Give explicit formulas for the conditional mean and conditional covariance matrix.\n",
    "\n",
    "5. Write a Python method for your class to compute the  probability distribution of $z_1$ conditional on $z_2$.\n",
    "\n",
    "6.  Make up a set of plausible parameter values and create an instance of our setting for these parameter values.\n",
    "\n",
    "7.  Interpret the  probability distribution of $z_1$  conditional on $z_2$ as a way that an economist or government agency that does not have data on $z_1$ (capital stocks are **hidden variables**) can infer something about them from observations on consumption and investment rates. \n",
    "\n",
    "**Remark:** a version of this method has been used by various government statistical agencies\n",
    "to estimate capital stocks.\n",
    "\n",
    "\n",
    "8.  Explain how your answer illustrates the peculiar  statement that ``you can regress what you don't know on what you do know if you have a model of their joint probability distribution.''\n"
   ]
  }
 ],
 "metadata": {
  "kernelspec": {
   "display_name": "Python 3 (ipykernel)",
   "language": "python",
   "name": "python3"
  },
  "language_info": {
   "codemirror_mode": {
    "name": "ipython",
    "version": 3
   },
   "file_extension": ".py",
   "mimetype": "text/x-python",
   "name": "python",
   "nbconvert_exporter": "python",
   "pygments_lexer": "ipython3",
   "version": "3.7.7"
  },
  "vscode": {
   "interpreter": {
    "hash": "aee8b7b246df8f9039afb4144a1f6fd8d2ca17a180786b69acc140d282b71a49"
   }
  }
 },
 "nbformat": 4,
 "nbformat_minor": 5
}
