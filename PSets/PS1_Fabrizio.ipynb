{
 "cells": [
  {
   "cell_type": "code",
   "execution_count": 1,
   "id": "11bcaa27",
   "metadata": {
    "hide-output": false
   },
   "outputs": [
    {
     "name": "stdout",
     "output_type": "stream",
     "text": [
      "Requirement already satisfied: prettytable in /Users/fabrizio/opt/anaconda3/lib/python3.8/site-packages (3.3.0)\n",
      "Requirement already satisfied: wcwidth in /Users/fabrizio/opt/anaconda3/lib/python3.8/site-packages (from prettytable) (0.2.5)\n",
      "\u001b[33mWARNING: You are using pip version 21.3.1; however, version 22.2 is available.\n",
      "You should consider upgrading via the '/Users/fabrizio/opt/anaconda3/bin/python -m pip install --upgrade pip' command.\u001b[0m\n"
     ]
    }
   ],
   "source": [
    "#!pip install prettytable"
   ]
  },
  {
   "cell_type": "code",
   "execution_count": 2,
   "id": "547767bf",
   "metadata": {
    "hide-output": false
   },
   "outputs": [],
   "source": [
    "import numpy as np\n",
    "import matplotlib.pyplot as plt\n",
    "import prettytable as pt\n",
    "from mpl_toolkits.mplot3d import Axes3D\n",
    "from IPython.display import set_matplotlib_formats\n",
    "set_matplotlib_formats('retina')\n",
    "%matplotlib inline"
   ]
  },
  {
   "cell_type": "code",
   "execution_count": 49,
   "id": "db9206d8",
   "metadata": {
    "hide-output": false
   },
   "outputs": [],
   "source": [
    "class discrete_bijoint:\n",
    "\n",
    "    def __init__(self, f, xs, ys):\n",
    "        '''initialization\n",
    "        -----------------\n",
    "        parameters:\n",
    "        f: the bivariate joint probability matrix\n",
    "        xs: values of x vector\n",
    "        ys: values of y vector\n",
    "        '''\n",
    "        self.f, self.xs, self.ys = f, xs, ys\n",
    "\n",
    "    def joint_tb(self):\n",
    "        '''print the joint distribution table'''\n",
    "        xs = self.xs\n",
    "        ys = self.ys\n",
    "        f = self.f\n",
    "        jtb = pt.PrettyTable()\n",
    "        jtb.field_names = ['x_value/y_value', *ys, 'marginal sum for x']\n",
    "        for i in range(len(xs)):\n",
    "            jtb.add_row([xs[i], *f[i, :], np.sum(f[i, :])])\n",
    "        jtb.add_row(['marginal_sum for y', *np.sum(f, 0), np.sum(f)])\n",
    "        print(\"\\nThe joint probability distribution for x and y\\n\", jtb)\n",
    "        self.jtb = jtb\n",
    "\n",
    "    def draw(self, n):\n",
    "        '''draw random numbers\n",
    "        ----------------------\n",
    "        parameters:\n",
    "        n: number of random numbers to draw\n",
    "        '''\n",
    "        xs = self.xs\n",
    "        ys = self.ys\n",
    "        f_cum = np.cumsum(self.f)\n",
    "        p = np.random.rand(n)\n",
    "        x = np.empty([2, p.shape[0]])\n",
    "        lf = len(f_cum)\n",
    "        lx = len(xs)-1\n",
    "        ly = len(ys)-1\n",
    "        for i in range(lf):\n",
    "            x[0, p < f_cum[lf-1-i]] = xs[lx]\n",
    "            x[1, p < f_cum[lf-1-i]] = ys[ly]\n",
    "            if ly == 0:\n",
    "                lx -= 1\n",
    "                ly = len(ys)-1\n",
    "            else:\n",
    "                ly -= 1\n",
    "        self.x = x\n",
    "        self.n = n\n",
    "\n",
    "    def marg_dist(self):\n",
    "        '''marginal distribution'''\n",
    "        x = self.x\n",
    "        xs = self.xs\n",
    "        ys = self.ys\n",
    "        n = self.n\n",
    "        xmp = [np.sum(x[0, :] == xs[i])/n for i in range(len(xs))]\n",
    "        ymp = [np.sum(x[1, :] == ys[i])/n for i in range(len(ys))]\n",
    "\n",
    "        # print output\n",
    "        xmtb = pt.PrettyTable()\n",
    "        ymtb = pt.PrettyTable()\n",
    "        xmtb.field_names = ['x_value', 'x_prob']\n",
    "        ymtb.field_names = ['y_value', 'y_prob']\n",
    "        for i in range(max(len(xs), len(ys))):\n",
    "            if i < len(xs):\n",
    "                xmtb.add_row([xs[i], xmp[i]])\n",
    "            if i < len(ys):\n",
    "                ymtb.add_row([ys[i], ymp[i]])\n",
    "        xmtb.add_row(['sum', np.sum(xmp)])\n",
    "        ymtb.add_row(['sum', np.sum(ymp)])\n",
    "        print(\"\\nmarginal distribution for x\\n\", xmtb)\n",
    "        print(\"\\nmarginal distribution for y\\n\", ymtb)\n",
    "\n",
    "        self.xmp = xmp\n",
    "        self.ymp = ymp\n",
    "\n",
    "    def cond_dist(self):\n",
    "        '''conditional distribution'''\n",
    "        x = self.x\n",
    "        xs = self.xs\n",
    "        ys = self.ys\n",
    "        n = self.n\n",
    "        xcp = np.empty([len(ys), len(xs)])\n",
    "        ycp = np.empty([len(xs), len(ys)])\n",
    "        for i in range(max(len(ys), len(xs))):\n",
    "            if i < len(ys):\n",
    "                xi = x[0, x[1, :] == ys[i]]\n",
    "                idx = xi.reshape(len(xi), 1) == xs.reshape(1, len(xs))\n",
    "                xcp[i, :] = np.sum(idx, 0)/len(xi)\n",
    "            if i < len(xs):\n",
    "                yi = x[1, x[0, :] == xs[i]]\n",
    "                idy = yi.reshape(len(yi), 1) == ys.reshape(1, len(ys))\n",
    "                ycp[i, :] = np.sum(idy, 0)/len(yi)\n",
    "\n",
    "        # print output\n",
    "        xctb = pt.PrettyTable()\n",
    "        yctb = pt.PrettyTable()\n",
    "        xctb.field_names = ['x_value', *xs, 'sum']\n",
    "        yctb.field_names = ['y_value', *ys, 'sum']\n",
    "        for i in range(max(len(xs), len(ys))):\n",
    "            if i < len(ys):\n",
    "                xctb.add_row([ys[i], *xcp[i], np.sum(xcp[i])])\n",
    "            if i < len(xs):\n",
    "                yctb.add_row([xs[i], *ycp[i], np.sum(ycp[i])])\n",
    "        print(\"\\nconditional distribution for x\\n\", xctb)\n",
    "        print(\"\\nconditional distribution for y\\n\", yctb)\n",
    "\n",
    "        self.xcp = xcp\n",
    "        self.xyp = ycp"
   ]
  },
  {
   "cell_type": "markdown",
   "id": "f8cf3062",
   "metadata": {},
   "source": [
    "Let’s apply our code to some examples.\n",
    "\n",
    "**Example 1**"
   ]
  },
  {
   "cell_type": "code",
   "execution_count": 50,
   "id": "3e797a9f",
   "metadata": {
    "hide-output": false
   },
   "outputs": [
    {
     "name": "stdout",
     "output_type": "stream",
     "text": [
      "\n",
      "The joint probability distribution for x and y\n",
      " +--------------------+-----+--------------------+--------------------+\n",
      "|  x_value/y_value   |  10 |         20         | marginal sum for x |\n",
      "+--------------------+-----+--------------------+--------------------+\n",
      "|         0          | 0.3 |        0.2         |        0.5         |\n",
      "|         1          | 0.1 |        0.4         |        0.5         |\n",
      "| marginal_sum for y | 0.4 | 0.6000000000000001 |        1.0         |\n",
      "+--------------------+-----+--------------------+--------------------+\n"
     ]
    }
   ],
   "source": [
    "# joint\n",
    "d = discrete_bijoint(f, xs, ys)\n",
    "d.joint_tb()"
   ]
  },
  {
   "cell_type": "code",
   "execution_count": 23,
   "id": "738af166",
   "metadata": {
    "hide-output": false
   },
   "outputs": [
    {
     "name": "stdout",
     "output_type": "stream",
     "text": [
      "\n",
      "marginal distribution for x\n",
      " +---------+----------+\n",
      "| x_value |  x_prob  |\n",
      "+---------+----------+\n",
      "|    0    | 0.501259 |\n",
      "|    1    | 0.498741 |\n",
      "|   sum   |   1.0    |\n",
      "+---------+----------+\n",
      "\n",
      "marginal distribution for y\n",
      " +---------+----------+\n",
      "| y_value |  y_prob  |\n",
      "+---------+----------+\n",
      "|    10   | 0.400802 |\n",
      "|    20   | 0.599198 |\n",
      "|   sum   |   1.0    |\n",
      "+---------+----------+\n"
     ]
    }
   ],
   "source": [
    "# sample marginal\n",
    "d.draw(1_000_000)\n",
    "d.marg_dist()"
   ]
  },
  {
   "cell_type": "code",
   "execution_count": 24,
   "id": "ed9bd652",
   "metadata": {
    "hide-output": false
   },
   "outputs": [
    {
     "name": "stdout",
     "output_type": "stream",
     "text": [
      "\n",
      "conditional distribution for x\n",
      " +---------+--------------------+---------------------+-----+\n",
      "| x_value |         0          |          1          | sum |\n",
      "+---------+--------------------+---------------------+-----+\n",
      "|    10   | 0.7513610211525891 | 0.24863897884741093 | 1.0 |\n",
      "|    20   | 0.3339664017570152 |  0.6660335982429848 | 1.0 |\n",
      "+---------+--------------------+---------------------+-----+\n",
      "\n",
      "conditional distribution for y\n",
      " +---------+---------------------+--------------------+-----+\n",
      "| y_value |          10         |         20         | sum |\n",
      "+---------+---------------------+--------------------+-----+\n",
      "|    0    |  0.6007812328556694 | 0.3992187671443306 | 1.0 |\n",
      "|    1    | 0.19981312945998023 | 0.8001868705400198 | 1.0 |\n",
      "+---------+---------------------+--------------------+-----+\n"
     ]
    }
   ],
   "source": [
    "# sample conditional\n",
    "d.cond_dist()"
   ]
  },
  {
   "cell_type": "markdown",
   "id": "c2e48b39",
   "metadata": {},
   "source": [
    "**Example 2**"
   ]
  },
  {
   "cell_type": "code",
   "execution_count": 25,
   "id": "056530ad",
   "metadata": {
    "hide-output": false
   },
   "outputs": [
    {
     "name": "stdout",
     "output_type": "stream",
     "text": [
      "\n",
      "The joint probability distribution for x and y\n",
      " +--------------------+---------------------+------+---------------------+\n",
      "|  x_value/y_value   |          1          |  2   |  marginal sum for x |\n",
      "+--------------------+---------------------+------+---------------------+\n",
      "|         10         |         0.2         | 0.1  | 0.30000000000000004 |\n",
      "|         20         |         0.1         | 0.3  |         0.4         |\n",
      "|         30         |         0.15        | 0.15 |         0.3         |\n",
      "| marginal_sum for y | 0.45000000000000007 | 0.55 |         1.0         |\n",
      "+--------------------+---------------------+------+---------------------+\n"
     ]
    }
   ],
   "source": [
    "xs_new = np.array([10, 20, 30])\n",
    "ys_new = np.array([1, 2])\n",
    "f_new = np.array([[0.2, 0.1], [0.1, 0.3], [0.15, 0.15]])\n",
    "d_new = discrete_bijoint(f_new, xs_new, ys_new)\n",
    "d_new.joint_tb()"
   ]
  },
  {
   "cell_type": "code",
   "execution_count": 26,
   "id": "5de460a1",
   "metadata": {
    "hide-output": false
   },
   "outputs": [
    {
     "name": "stdout",
     "output_type": "stream",
     "text": [
      "\n",
      "marginal distribution for x\n",
      " +---------+----------+\n",
      "| x_value |  x_prob  |\n",
      "+---------+----------+\n",
      "|    10   | 0.299532 |\n",
      "|    20   | 0.400092 |\n",
      "|    30   | 0.300376 |\n",
      "|   sum   |   1.0    |\n",
      "+---------+----------+\n",
      "\n",
      "marginal distribution for y\n",
      " +---------+----------+\n",
      "| y_value |  y_prob  |\n",
      "+---------+----------+\n",
      "|    1    | 0.449553 |\n",
      "|    2    | 0.550447 |\n",
      "|   sum   |   1.0    |\n",
      "+---------+----------+\n"
     ]
    }
   ],
   "source": [
    "d_new.draw(1_000_000)\n",
    "d_new.marg_dist()"
   ]
  },
  {
   "cell_type": "code",
   "execution_count": 27,
   "id": "f5f6c917",
   "metadata": {
    "hide-output": false
   },
   "outputs": [
    {
     "name": "stdout",
     "output_type": "stream",
     "text": [
      "\n",
      "conditional distribution for x\n",
      " +---------+--------------------+---------------------+---------------------+-----+\n",
      "| x_value |         10         |          20         |          30         | sum |\n",
      "+---------+--------------------+---------------------+---------------------+-----+\n",
      "|    1    | 0.4453423734242681 | 0.22189152335764636 | 0.33276610321808553 | 1.0 |\n",
      "|    2    | 0.1804478905326035 |  0.5456292794764982 |  0.2739228299908983 | 1.0 |\n",
      "+---------+--------------------+---------------------+---------------------+-----+\n",
      "\n",
      "conditional distribution for y\n",
      " +---------+---------------------+--------------------+-----+\n",
      "| y_value |          1          |         2          | sum |\n",
      "+---------+---------------------+--------------------+-----+\n",
      "|    10   |  0.6683926926004568 | 0.3316073073995433 | 1.0 |\n",
      "|    20   | 0.24932265578916848 | 0.7506773442108315 | 1.0 |\n",
      "|    30   |  0.4980291368151916 | 0.5019708631848083 | 1.0 |\n",
      "+---------+---------------------+--------------------+-----+\n"
     ]
    }
   ],
   "source": [
    "d_new.cond_dist()"
   ]
  }
 ],
 "metadata": {
  "date": 1658448407.6797843,
  "filename": "prob_matrix.md",
  "interpreter": {
   "hash": "31582b9feba862c420bc95ad7fac43fb721c474490d1710b4e50ac63470f9531"
  },
  "kernelspec": {
   "display_name": "Python 3.8.8 ('base')",
   "language": "python",
   "name": "python3"
  },
  "language_info": {
   "codemirror_mode": {
    "name": "ipython",
    "version": 3
   },
   "file_extension": ".py",
   "mimetype": "text/x-python",
   "name": "python",
   "nbconvert_exporter": "python",
   "pygments_lexer": "ipython3",
   "version": "3.8.8"
  },
  "title": "Elementary Probability with Matrices"
 },
 "nbformat": 4,
 "nbformat_minor": 5
}
