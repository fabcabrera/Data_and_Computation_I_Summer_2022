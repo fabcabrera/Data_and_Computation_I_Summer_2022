{
 "cells": [
  {
   "cell_type": "markdown",
   "id": "56ecf265",
   "metadata": {},
   "source": [
    "# Time series\n",
    "\n",
    "**Prerequisites**\n",
    "\n",
    "- [Python functions](https://datascience.quantecon.org/../python_fundamentals/functions.html)  \n",
    "- [GroupBy](https://datascience.quantecon.org/groupby.html)  \n",
    "\n",
    "\n",
    "**Outcomes**\n",
    "\n",
    "- Know how pandas handles dates  \n",
    "- Understand how to parse strings into `datetime` objects  \n",
    "- Know how to write dates as custom formatted strings  \n",
    "- Be able to access day, month, year, etc. for a `DateTimeIndex` and\n",
    "  a column with `dtype` `datetime`  \n",
    "- Understand both rolling and re-sampling operations and the difference\n",
    "  between the two  \n",
    "\n",
    "\n",
    "**Data**\n",
    "\n",
    "- Bitcoin to USD exchange rates from March 2014 to the present  "
   ]
  },
  {
   "cell_type": "code",
   "execution_count": 2,
   "id": "a0fdf6b4",
   "metadata": {
    "hide-output": false
   },
   "outputs": [],
   "source": [
    "# Uncomment following line to install on colab\n",
    "#! pip install "
   ]
  },
  {
   "cell_type": "code",
   "execution_count": 3,
   "id": "fd025d83",
   "metadata": {
    "hide-output": false
   },
   "outputs": [],
   "source": [
    "import os\n",
    "import pandas as pd\n",
    "import matplotlib.pyplot as plt\n",
    "import quandl\n",
    "\n",
    "# see section on API keys at end of lecture!\n",
    "quandl.ApiConfig.api_key = os.environ.get(\"QUANDL_AUTH\", \"Dn6BtVoBhzuKTuyo6hbp\")\n",
    "start_date = \"2014-05-01\"\n",
    "\n",
    "%matplotlib inline"
   ]
  },
  {
   "cell_type": "markdown",
   "id": "650f0cd9",
   "metadata": {},
   "source": [
    "## Intro\n",
    "\n",
    "pandas has extensive support for handling dates and times.\n",
    "\n",
    "We will loosely refer to data with date or time information as time\n",
    "series data.\n",
    "\n",
    "In this lecture, we will cover the most useful parts of pandas’ time\n",
    "series functionality.\n",
    "\n",
    "Among these topics are:\n",
    "\n",
    "- Parsing strings as dates  \n",
    "- Writing `datetime` objects as (inverse operation of previous point)  \n",
    "- Extracting data from a DataFrame or Series with date information in\n",
    "  the index  \n",
    "- Shifting data through time (taking leads or lags)  \n",
    "- Re-sampling data to a different frequency and rolling operations  \n",
    "\n",
    "\n",
    "However, even more than with previous topics, we will skip a lot of the\n",
    "functionality pandas offers, and we urge you to refer to the [official\n",
    "documentation](https://pandas.pydata.org/pandas-docs/stable/timeseries.html)\n",
    "for more information."
   ]
  },
  {
   "cell_type": "markdown",
   "id": "b35557e1",
   "metadata": {},
   "source": [
    "## Parsing Strings as Dates\n",
    "\n",
    "When working with time series data, we almost always receive the data\n",
    "with dates encoded as strings.\n",
    "\n",
    "Hopefully, the date strings follow a structured format or pattern.\n",
    "\n",
    "One common pattern is `YYYY-MM-DD`: 4 numbers for the year, 2 for the\n",
    "month, and 2 for the day with each section separated by a `-`.\n",
    "\n",
    "For example, we write Christmas day 2017 in this format as"
   ]
  },
  {
   "cell_type": "code",
   "execution_count": 4,
   "id": "49dae2ae",
   "metadata": {
    "hide-output": false
   },
   "outputs": [],
   "source": [
    "christmas_str = \"2017-12-25\""
   ]
  },
  {
   "cell_type": "markdown",
   "id": "c55b0e8e",
   "metadata": {},
   "source": [
    "To convert a string into a time-aware object, we use the\n",
    "`pd.to_datetime` function."
   ]
  },
  {
   "cell_type": "code",
   "execution_count": 5,
   "id": "c8391b12",
   "metadata": {
    "hide-output": false
   },
   "outputs": [
    {
     "name": "stdout",
     "output_type": "stream",
     "text": [
      "The type of christmas is <class 'pandas._libs.tslibs.timestamps.Timestamp'>\n"
     ]
    },
    {
     "data": {
      "text/plain": [
       "Timestamp('2017-12-25 00:00:00')"
      ]
     },
     "execution_count": 5,
     "metadata": {},
     "output_type": "execute_result"
    }
   ],
   "source": [
    "christmas = pd.to_datetime(christmas_str)\n",
    "print(\"The type of christmas is\", type(christmas))\n",
    "christmas"
   ]
  },
  {
   "cell_type": "markdown",
   "id": "be09a6c5",
   "metadata": {},
   "source": [
    "The `pd.to_datetime` function is pretty smart at guessing the format\n",
    "of the date…"
   ]
  },
  {
   "cell_type": "code",
   "execution_count": 6,
   "id": "245841af",
   "metadata": {
    "hide-output": false
   },
   "outputs": [
    {
     "name": "stdout",
     "output_type": "stream",
     "text": [
      "pandas interprets December 25, 2017 as 2017-12-25 00:00:00\n",
      "pandas interprets Dec. 25, 2017 as 2017-12-25 00:00:00\n",
      "pandas interprets Monday, Dec. 25, 2017 as 2017-12-25 00:00:00\n",
      "pandas interprets 25 Dec. 2017 as 2017-12-25 00:00:00\n",
      "pandas interprets 25th Dec. 2017 as 2017-12-25 00:00:00\n"
     ]
    }
   ],
   "source": [
    "for date in [\"December 25, 2017\", \"Dec. 25, 2017\",\n",
    "             \"Monday, Dec. 25, 2017\", \"25 Dec. 2017\", \"25th Dec. 2017\"]:\n",
    "    print(\"pandas interprets {} as {}\".format(date, pd.to_datetime(date)))"
   ]
  },
  {
   "cell_type": "markdown",
   "id": "5fdd141c",
   "metadata": {},
   "source": [
    "However, sometimes we will need to give pandas a hint.\n",
    "\n",
    "For example, that same time (midnight on Christmas) would be reported on\n",
    "an Amazon transaction report as"
   ]
  },
  {
   "cell_type": "code",
   "execution_count": 1,
   "id": "b07dccb4",
   "metadata": {
    "hide-output": false
   },
   "outputs": [],
   "source": [
    "christmas_amzn = \"2017-12-25T00:00:00+ 00 :00\""
   ]
  },
  {
   "cell_type": "markdown",
   "id": "ab94ec73",
   "metadata": {},
   "source": [
    "If we try to pass this to `pd.to_datetime`, it will fail."
   ]
  },
  {
   "cell_type": "code",
   "execution_count": 7,
   "id": "c0f90112",
   "metadata": {
    "hide-output": false
   },
   "outputs": [
    {
     "ename": "ParserError",
     "evalue": "Unknown string format: 2017-12-25T00:00:00+ 00 :00",
     "output_type": "error",
     "traceback": [
      "\u001b[0;31m---------------------------------------------------------------------------\u001b[0m",
      "\u001b[0;31mTypeError\u001b[0m                                 Traceback (most recent call last)",
      "\u001b[0;32m~/opt/anaconda3/lib/python3.8/site-packages/pandas/core/arrays/datetimes.py\u001b[0m in \u001b[0;36mobjects_to_datetime64ns\u001b[0;34m(data, dayfirst, yearfirst, utc, errors, require_iso8601, allow_object)\u001b[0m\n\u001b[1;32m   2084\u001b[0m         \u001b[0;32mtry\u001b[0m\u001b[0;34m:\u001b[0m\u001b[0;34m\u001b[0m\u001b[0;34m\u001b[0m\u001b[0m\n\u001b[0;32m-> 2085\u001b[0;31m             \u001b[0mvalues\u001b[0m\u001b[0;34m,\u001b[0m \u001b[0mtz_parsed\u001b[0m \u001b[0;34m=\u001b[0m \u001b[0mconversion\u001b[0m\u001b[0;34m.\u001b[0m\u001b[0mdatetime_to_datetime64\u001b[0m\u001b[0;34m(\u001b[0m\u001b[0mdata\u001b[0m\u001b[0;34m)\u001b[0m\u001b[0;34m\u001b[0m\u001b[0;34m\u001b[0m\u001b[0m\n\u001b[0m\u001b[1;32m   2086\u001b[0m             \u001b[0;31m# If tzaware, these values represent unix timestamps, so we\u001b[0m\u001b[0;34m\u001b[0m\u001b[0;34m\u001b[0m\u001b[0;34m\u001b[0m\u001b[0m\n",
      "\u001b[0;32mpandas/_libs/tslibs/conversion.pyx\u001b[0m in \u001b[0;36mpandas._libs.tslibs.conversion.datetime_to_datetime64\u001b[0;34m()\u001b[0m\n",
      "\u001b[0;31mTypeError\u001b[0m: Unrecognized value type: <class 'str'>",
      "\nDuring handling of the above exception, another exception occurred:\n",
      "\u001b[0;31mParserError\u001b[0m                               Traceback (most recent call last)",
      "\u001b[0;32m<ipython-input-7-35d0813ff50c>\u001b[0m in \u001b[0;36m<module>\u001b[0;34m\u001b[0m\n\u001b[0;32m----> 1\u001b[0;31m \u001b[0mpd\u001b[0m\u001b[0;34m.\u001b[0m\u001b[0mto_datetime\u001b[0m\u001b[0;34m(\u001b[0m\u001b[0mchristmas_amzn\u001b[0m\u001b[0;34m)\u001b[0m\u001b[0;34m\u001b[0m\u001b[0;34m\u001b[0m\u001b[0m\n\u001b[0m",
      "\u001b[0;32m~/opt/anaconda3/lib/python3.8/site-packages/pandas/core/tools/datetimes.py\u001b[0m in \u001b[0;36mto_datetime\u001b[0;34m(arg, errors, dayfirst, yearfirst, utc, format, exact, unit, infer_datetime_format, origin, cache)\u001b[0m\n\u001b[1;32m    830\u001b[0m             \u001b[0mresult\u001b[0m \u001b[0;34m=\u001b[0m \u001b[0mconvert_listlike\u001b[0m\u001b[0;34m(\u001b[0m\u001b[0marg\u001b[0m\u001b[0;34m,\u001b[0m \u001b[0mformat\u001b[0m\u001b[0;34m)\u001b[0m\u001b[0;34m\u001b[0m\u001b[0;34m\u001b[0m\u001b[0m\n\u001b[1;32m    831\u001b[0m     \u001b[0;32melse\u001b[0m\u001b[0;34m:\u001b[0m\u001b[0;34m\u001b[0m\u001b[0;34m\u001b[0m\u001b[0m\n\u001b[0;32m--> 832\u001b[0;31m         \u001b[0mresult\u001b[0m \u001b[0;34m=\u001b[0m \u001b[0mconvert_listlike\u001b[0m\u001b[0;34m(\u001b[0m\u001b[0mnp\u001b[0m\u001b[0;34m.\u001b[0m\u001b[0marray\u001b[0m\u001b[0;34m(\u001b[0m\u001b[0;34m[\u001b[0m\u001b[0marg\u001b[0m\u001b[0;34m]\u001b[0m\u001b[0;34m)\u001b[0m\u001b[0;34m,\u001b[0m \u001b[0mformat\u001b[0m\u001b[0;34m)\u001b[0m\u001b[0;34m[\u001b[0m\u001b[0;36m0\u001b[0m\u001b[0;34m]\u001b[0m\u001b[0;34m\u001b[0m\u001b[0;34m\u001b[0m\u001b[0m\n\u001b[0m\u001b[1;32m    833\u001b[0m \u001b[0;34m\u001b[0m\u001b[0m\n\u001b[1;32m    834\u001b[0m     \u001b[0;32mreturn\u001b[0m \u001b[0mresult\u001b[0m\u001b[0;34m\u001b[0m\u001b[0;34m\u001b[0m\u001b[0m\n",
      "\u001b[0;32m~/opt/anaconda3/lib/python3.8/site-packages/pandas/core/tools/datetimes.py\u001b[0m in \u001b[0;36m_convert_listlike_datetimes\u001b[0;34m(arg, format, name, tz, unit, errors, infer_datetime_format, dayfirst, yearfirst, exact)\u001b[0m\n\u001b[1;32m    463\u001b[0m         \u001b[0;32massert\u001b[0m \u001b[0mformat\u001b[0m \u001b[0;32mis\u001b[0m \u001b[0;32mNone\u001b[0m \u001b[0;32mor\u001b[0m \u001b[0minfer_datetime_format\u001b[0m\u001b[0;34m\u001b[0m\u001b[0;34m\u001b[0m\u001b[0m\n\u001b[1;32m    464\u001b[0m         \u001b[0mutc\u001b[0m \u001b[0;34m=\u001b[0m \u001b[0mtz\u001b[0m \u001b[0;34m==\u001b[0m \u001b[0;34m\"utc\"\u001b[0m\u001b[0;34m\u001b[0m\u001b[0;34m\u001b[0m\u001b[0m\n\u001b[0;32m--> 465\u001b[0;31m         result, tz_parsed = objects_to_datetime64ns(\n\u001b[0m\u001b[1;32m    466\u001b[0m             \u001b[0marg\u001b[0m\u001b[0;34m,\u001b[0m\u001b[0;34m\u001b[0m\u001b[0;34m\u001b[0m\u001b[0m\n\u001b[1;32m    467\u001b[0m             \u001b[0mdayfirst\u001b[0m\u001b[0;34m=\u001b[0m\u001b[0mdayfirst\u001b[0m\u001b[0;34m,\u001b[0m\u001b[0;34m\u001b[0m\u001b[0;34m\u001b[0m\u001b[0m\n",
      "\u001b[0;32m~/opt/anaconda3/lib/python3.8/site-packages/pandas/core/arrays/datetimes.py\u001b[0m in \u001b[0;36mobjects_to_datetime64ns\u001b[0;34m(data, dayfirst, yearfirst, utc, errors, require_iso8601, allow_object)\u001b[0m\n\u001b[1;32m   2088\u001b[0m             \u001b[0;32mreturn\u001b[0m \u001b[0mvalues\u001b[0m\u001b[0;34m.\u001b[0m\u001b[0mview\u001b[0m\u001b[0;34m(\u001b[0m\u001b[0;34m\"i8\"\u001b[0m\u001b[0;34m)\u001b[0m\u001b[0;34m,\u001b[0m \u001b[0mtz_parsed\u001b[0m\u001b[0;34m\u001b[0m\u001b[0;34m\u001b[0m\u001b[0m\n\u001b[1;32m   2089\u001b[0m         \u001b[0;32mexcept\u001b[0m \u001b[0;34m(\u001b[0m\u001b[0mValueError\u001b[0m\u001b[0;34m,\u001b[0m \u001b[0mTypeError\u001b[0m\u001b[0;34m)\u001b[0m\u001b[0;34m:\u001b[0m\u001b[0;34m\u001b[0m\u001b[0;34m\u001b[0m\u001b[0m\n\u001b[0;32m-> 2090\u001b[0;31m             \u001b[0;32mraise\u001b[0m \u001b[0me\u001b[0m\u001b[0;34m\u001b[0m\u001b[0;34m\u001b[0m\u001b[0m\n\u001b[0m\u001b[1;32m   2091\u001b[0m \u001b[0;34m\u001b[0m\u001b[0m\n\u001b[1;32m   2092\u001b[0m     \u001b[0;32mif\u001b[0m \u001b[0mtz_parsed\u001b[0m \u001b[0;32mis\u001b[0m \u001b[0;32mnot\u001b[0m \u001b[0;32mNone\u001b[0m\u001b[0;34m:\u001b[0m\u001b[0;34m\u001b[0m\u001b[0;34m\u001b[0m\u001b[0m\n",
      "\u001b[0;32m~/opt/anaconda3/lib/python3.8/site-packages/pandas/core/arrays/datetimes.py\u001b[0m in \u001b[0;36mobjects_to_datetime64ns\u001b[0;34m(data, dayfirst, yearfirst, utc, errors, require_iso8601, allow_object)\u001b[0m\n\u001b[1;32m   2073\u001b[0m \u001b[0;34m\u001b[0m\u001b[0m\n\u001b[1;32m   2074\u001b[0m     \u001b[0;32mtry\u001b[0m\u001b[0;34m:\u001b[0m\u001b[0;34m\u001b[0m\u001b[0;34m\u001b[0m\u001b[0m\n\u001b[0;32m-> 2075\u001b[0;31m         result, tz_parsed = tslib.array_to_datetime(\n\u001b[0m\u001b[1;32m   2076\u001b[0m             \u001b[0mdata\u001b[0m\u001b[0;34m,\u001b[0m\u001b[0;34m\u001b[0m\u001b[0;34m\u001b[0m\u001b[0m\n\u001b[1;32m   2077\u001b[0m             \u001b[0merrors\u001b[0m\u001b[0;34m=\u001b[0m\u001b[0merrors\u001b[0m\u001b[0;34m,\u001b[0m\u001b[0;34m\u001b[0m\u001b[0;34m\u001b[0m\u001b[0m\n",
      "\u001b[0;32mpandas/_libs/tslib.pyx\u001b[0m in \u001b[0;36mpandas._libs.tslib.array_to_datetime\u001b[0;34m()\u001b[0m\n",
      "\u001b[0;32mpandas/_libs/tslib.pyx\u001b[0m in \u001b[0;36mpandas._libs.tslib.array_to_datetime\u001b[0;34m()\u001b[0m\n",
      "\u001b[0;32mpandas/_libs/tslib.pyx\u001b[0m in \u001b[0;36mpandas._libs.tslib.array_to_datetime_object\u001b[0;34m()\u001b[0m\n",
      "\u001b[0;32mpandas/_libs/tslib.pyx\u001b[0m in \u001b[0;36mpandas._libs.tslib.array_to_datetime_object\u001b[0;34m()\u001b[0m\n",
      "\u001b[0;32mpandas/_libs/tslibs/parsing.pyx\u001b[0m in \u001b[0;36mpandas._libs.tslibs.parsing.parse_datetime_string\u001b[0;34m()\u001b[0m\n",
      "\u001b[0;32m~/opt/anaconda3/lib/python3.8/site-packages/dateutil/parser/_parser.py\u001b[0m in \u001b[0;36mparse\u001b[0;34m(timestr, parserinfo, **kwargs)\u001b[0m\n\u001b[1;32m   1372\u001b[0m         \u001b[0;32mreturn\u001b[0m \u001b[0mparser\u001b[0m\u001b[0;34m(\u001b[0m\u001b[0mparserinfo\u001b[0m\u001b[0;34m)\u001b[0m\u001b[0;34m.\u001b[0m\u001b[0mparse\u001b[0m\u001b[0;34m(\u001b[0m\u001b[0mtimestr\u001b[0m\u001b[0;34m,\u001b[0m \u001b[0;34m**\u001b[0m\u001b[0mkwargs\u001b[0m\u001b[0;34m)\u001b[0m\u001b[0;34m\u001b[0m\u001b[0;34m\u001b[0m\u001b[0m\n\u001b[1;32m   1373\u001b[0m     \u001b[0;32melse\u001b[0m\u001b[0;34m:\u001b[0m\u001b[0;34m\u001b[0m\u001b[0;34m\u001b[0m\u001b[0m\n\u001b[0;32m-> 1374\u001b[0;31m         \u001b[0;32mreturn\u001b[0m \u001b[0mDEFAULTPARSER\u001b[0m\u001b[0;34m.\u001b[0m\u001b[0mparse\u001b[0m\u001b[0;34m(\u001b[0m\u001b[0mtimestr\u001b[0m\u001b[0;34m,\u001b[0m \u001b[0;34m**\u001b[0m\u001b[0mkwargs\u001b[0m\u001b[0;34m)\u001b[0m\u001b[0;34m\u001b[0m\u001b[0;34m\u001b[0m\u001b[0m\n\u001b[0m\u001b[1;32m   1375\u001b[0m \u001b[0;34m\u001b[0m\u001b[0m\n\u001b[1;32m   1376\u001b[0m \u001b[0;34m\u001b[0m\u001b[0m\n",
      "\u001b[0;32m~/opt/anaconda3/lib/python3.8/site-packages/dateutil/parser/_parser.py\u001b[0m in \u001b[0;36mparse\u001b[0;34m(self, timestr, default, ignoretz, tzinfos, **kwargs)\u001b[0m\n\u001b[1;32m    647\u001b[0m \u001b[0;34m\u001b[0m\u001b[0m\n\u001b[1;32m    648\u001b[0m         \u001b[0;32mif\u001b[0m \u001b[0mres\u001b[0m \u001b[0;32mis\u001b[0m \u001b[0;32mNone\u001b[0m\u001b[0;34m:\u001b[0m\u001b[0;34m\u001b[0m\u001b[0;34m\u001b[0m\u001b[0m\n\u001b[0;32m--> 649\u001b[0;31m             \u001b[0;32mraise\u001b[0m \u001b[0mParserError\u001b[0m\u001b[0;34m(\u001b[0m\u001b[0;34m\"Unknown string format: %s\"\u001b[0m\u001b[0;34m,\u001b[0m \u001b[0mtimestr\u001b[0m\u001b[0;34m)\u001b[0m\u001b[0;34m\u001b[0m\u001b[0;34m\u001b[0m\u001b[0m\n\u001b[0m\u001b[1;32m    650\u001b[0m \u001b[0;34m\u001b[0m\u001b[0m\n\u001b[1;32m    651\u001b[0m         \u001b[0;32mif\u001b[0m \u001b[0mlen\u001b[0m\u001b[0;34m(\u001b[0m\u001b[0mres\u001b[0m\u001b[0;34m)\u001b[0m \u001b[0;34m==\u001b[0m \u001b[0;36m0\u001b[0m\u001b[0;34m:\u001b[0m\u001b[0;34m\u001b[0m\u001b[0;34m\u001b[0m\u001b[0m\n",
      "\u001b[0;31mParserError\u001b[0m: Unknown string format: 2017-12-25T00:00:00+ 00 :00"
     ]
    }
   ],
   "source": [
    "pd.to_datetime(christmas_amzn)"
   ]
  },
  {
   "cell_type": "markdown",
   "id": "2a00f5b3",
   "metadata": {},
   "source": [
    "To parse a date with this format, we need to specify the `format`\n",
    "argument for `pd.to_datetime`."
   ]
  },
  {
   "cell_type": "code",
   "execution_count": 8,
   "id": "3f5f6688",
   "metadata": {
    "hide-output": false
   },
   "outputs": [
    {
     "data": {
      "text/plain": [
       "Timestamp('2017-12-25 00:00:00')"
      ]
     },
     "execution_count": 8,
     "metadata": {},
     "output_type": "execute_result"
    }
   ],
   "source": [
    "amzn_strftime = \"%Y-%m-%dT%H:%M:%S+ 00 :00\"\n",
    "pd.to_datetime(christmas_amzn, format=amzn_strftime)"
   ]
  },
  {
   "cell_type": "markdown",
   "id": "0a053bef",
   "metadata": {},
   "source": [
    "Can you guess what `amzn_strftime` represents?\n",
    "\n",
    "Let’s take a closer look at `amzn_strftime` and `christmas_amzn`."
   ]
  },
  {
   "cell_type": "code",
   "execution_count": 9,
   "id": "23343382",
   "metadata": {
    "hide-output": false
   },
   "outputs": [
    {
     "name": "stdout",
     "output_type": "stream",
     "text": [
      "%Y-%m-%dT%H:%M:%S+ 00 :00\n",
      "2017-12-25T00:00:00+ 00 :00\n"
     ]
    }
   ],
   "source": [
    "print(amzn_strftime)\n",
    "print(christmas_amzn)"
   ]
  },
  {
   "cell_type": "markdown",
   "id": "48be686d",
   "metadata": {},
   "source": [
    "Notice that both of the strings have a similar form, but that instead of actual numerical values, `amzn_strftime` has *placeholders*.\n",
    "\n",
    "Specifically, anywhere the `%` shows up is a signal to the `pd.to_datetime`\n",
    "function that it is where relevant information is stored.\n",
    "\n",
    "For example, the `%Y` is a stand-in for a four digit year, `%m` is\n",
    "for 2 a digit month, and so on…\n",
    "\n",
    "The official [Python\n",
    "documentation](https://docs.python.org/3/library/datetime.html#strftime-and-strptime-behavior) contains a complete list of possible `%`something patterns that are accepted\n",
    "in the `format` argument."
   ]
  },
  {
   "cell_type": "markdown",
   "id": "98955ccf",
   "metadata": {},
   "source": [
    "## Exercise\n",
    "\n",
    "See exercise 1 in the [exercise list](#pd-tim-ex)."
   ]
  },
  {
   "cell_type": "markdown",
   "id": "d47f0320",
   "metadata": {},
   "source": [
    "### Multiple Dates\n",
    "\n",
    "If we have dates in a Series (e.g. column of DataFrame) or a list, we\n",
    "can pass the entire collection to `pd.to_datetime` and get a\n",
    "collection of dates back.\n",
    "\n",
    "We’ll just show an example of that here as the mechanics are the same as\n",
    "a single date."
   ]
  },
  {
   "cell_type": "code",
   "execution_count": 10,
   "id": "be1fdaf4",
   "metadata": {
    "hide-output": false
   },
   "outputs": [
    {
     "data": {
      "text/plain": [
       "DatetimeIndex(['2017-12-25', '2017-12-31'], dtype='datetime64[ns]', freq=None)"
      ]
     },
     "execution_count": 10,
     "metadata": {},
     "output_type": "execute_result"
    }
   ],
   "source": [
    "pd.to_datetime([\"2017-12-25\", \"2017-12-31\"])"
   ]
  },
  {
   "cell_type": "markdown",
   "id": "553ca1c4",
   "metadata": {},
   "source": [
    "## Date Formatting\n",
    "\n",
    "We can use the `%`pattern format to have pandas write `datetime`\n",
    "objects as specially formatted strings using the `strftime` (string\n",
    "format time) method.\n",
    "\n",
    "For example,"
   ]
  },
  {
   "cell_type": "code",
   "execution_count": 11,
   "id": "0fb8dcd3",
   "metadata": {
    "hide-output": false
   },
   "outputs": [
    {
     "data": {
      "text/plain": [
       "'We love Monday December 25 (also written Mon Dec 25 00:00:00 2017)'"
      ]
     },
     "execution_count": 11,
     "metadata": {},
     "output_type": "execute_result"
    }
   ],
   "source": [
    "christmas.strftime(\"We love %A %B %d (also written %c)\")"
   ]
  },
  {
   "cell_type": "markdown",
   "id": "0da66bfb",
   "metadata": {},
   "source": [
    "## Exercise\n",
    "\n",
    "See exercise 2 in the [exercise list](#pd-tim-ex)."
   ]
  },
  {
   "cell_type": "markdown",
   "id": "b0458b8f",
   "metadata": {},
   "source": [
    "## Extracting Data\n",
    "\n",
    "When the index of a DataFrame has date information and pandas\n",
    "recognizes the values as `datetime` values, we can leverage some\n",
    "convenient indexing features for extracting data.\n",
    "\n",
    "The flexibility of these features is best understood through example,\n",
    "so let’s load up some data and take a look."
   ]
  },
  {
   "cell_type": "code",
   "execution_count": 12,
   "id": "d5b30251",
   "metadata": {
    "hide-output": false
   },
   "outputs": [
    {
     "name": "stdout",
     "output_type": "stream",
     "text": [
      "<class 'pandas.core.frame.DataFrame'>\n",
      "DatetimeIndex: 2599 entries, 2014-05-01 to 2021-06-20\n",
      "Data columns (total 7 columns):\n",
      " #   Column             Non-Null Count  Dtype  \n",
      "---  ------             --------------  -----  \n",
      " 0   Open               2599 non-null   float64\n",
      " 1   High               2599 non-null   float64\n",
      " 2   Low                2599 non-null   float64\n",
      " 3   Close              2599 non-null   float64\n",
      " 4   Volume (BTC)       2599 non-null   float64\n",
      " 5   Volume (Currency)  2599 non-null   float64\n",
      " 6   Weighted Price     2599 non-null   float64\n",
      "dtypes: float64(7)\n",
      "memory usage: 162.4 KB\n"
     ]
    },
    {
     "data": {
      "text/html": [
       "<div>\n",
       "<style scoped>\n",
       "    .dataframe tbody tr th:only-of-type {\n",
       "        vertical-align: middle;\n",
       "    }\n",
       "\n",
       "    .dataframe tbody tr th {\n",
       "        vertical-align: top;\n",
       "    }\n",
       "\n",
       "    .dataframe thead th {\n",
       "        text-align: right;\n",
       "    }\n",
       "</style>\n",
       "<table border=\"1\" class=\"dataframe\">\n",
       "  <thead>\n",
       "    <tr style=\"text-align: right;\">\n",
       "      <th></th>\n",
       "      <th>Open</th>\n",
       "      <th>High</th>\n",
       "      <th>Low</th>\n",
       "      <th>Close</th>\n",
       "      <th>Volume (BTC)</th>\n",
       "      <th>Volume (Currency)</th>\n",
       "      <th>Weighted Price</th>\n",
       "    </tr>\n",
       "    <tr>\n",
       "      <th>Date</th>\n",
       "      <th></th>\n",
       "      <th></th>\n",
       "      <th></th>\n",
       "      <th></th>\n",
       "      <th></th>\n",
       "      <th></th>\n",
       "      <th></th>\n",
       "    </tr>\n",
       "  </thead>\n",
       "  <tbody>\n",
       "    <tr>\n",
       "      <th>2014-05-01</th>\n",
       "      <td>449.00</td>\n",
       "      <td>465.88</td>\n",
       "      <td>447.97</td>\n",
       "      <td>460.97</td>\n",
       "      <td>9556.037886</td>\n",
       "      <td>4.381969e+06</td>\n",
       "      <td>458.554960</td>\n",
       "    </tr>\n",
       "    <tr>\n",
       "      <th>2014-05-02</th>\n",
       "      <td>460.97</td>\n",
       "      <td>462.99</td>\n",
       "      <td>444.51</td>\n",
       "      <td>454.50</td>\n",
       "      <td>8269.891417</td>\n",
       "      <td>3.731061e+06</td>\n",
       "      <td>451.162018</td>\n",
       "    </tr>\n",
       "    <tr>\n",
       "      <th>2014-05-03</th>\n",
       "      <td>452.00</td>\n",
       "      <td>454.50</td>\n",
       "      <td>431.00</td>\n",
       "      <td>439.00</td>\n",
       "      <td>7431.626480</td>\n",
       "      <td>3.271086e+06</td>\n",
       "      <td>440.157544</td>\n",
       "    </tr>\n",
       "    <tr>\n",
       "      <th>2014-05-04</th>\n",
       "      <td>439.00</td>\n",
       "      <td>442.83</td>\n",
       "      <td>429.55</td>\n",
       "      <td>438.04</td>\n",
       "      <td>5154.407794</td>\n",
       "      <td>2.245293e+06</td>\n",
       "      <td>435.606483</td>\n",
       "    </tr>\n",
       "    <tr>\n",
       "      <th>2014-05-05</th>\n",
       "      <td>435.88</td>\n",
       "      <td>445.00</td>\n",
       "      <td>425.00</td>\n",
       "      <td>433.00</td>\n",
       "      <td>8188.082795</td>\n",
       "      <td>3.547855e+06</td>\n",
       "      <td>433.294968</td>\n",
       "    </tr>\n",
       "  </tbody>\n",
       "</table>\n",
       "</div>"
      ],
      "text/plain": [
       "              Open    High     Low   Close  Volume (BTC)  Volume (Currency)  \\\n",
       "Date                                                                          \n",
       "2014-05-01  449.00  465.88  447.97  460.97   9556.037886       4.381969e+06   \n",
       "2014-05-02  460.97  462.99  444.51  454.50   8269.891417       3.731061e+06   \n",
       "2014-05-03  452.00  454.50  431.00  439.00   7431.626480       3.271086e+06   \n",
       "2014-05-04  439.00  442.83  429.55  438.04   5154.407794       2.245293e+06   \n",
       "2014-05-05  435.88  445.00  425.00  433.00   8188.082795       3.547855e+06   \n",
       "\n",
       "            Weighted Price  \n",
       "Date                        \n",
       "2014-05-01      458.554960  \n",
       "2014-05-02      451.162018  \n",
       "2014-05-03      440.157544  \n",
       "2014-05-04      435.606483  \n",
       "2014-05-05      433.294968  "
      ]
     },
     "execution_count": 12,
     "metadata": {},
     "output_type": "execute_result"
    }
   ],
   "source": [
    "btc_usd = quandl.get(\"BCHARTS/BITSTAMPUSD\", start_date=start_date)\n",
    "btc_usd.info()\n",
    "btc_usd.head()"
   ]
  },
  {
   "cell_type": "markdown",
   "id": "a7c4a99d",
   "metadata": {},
   "source": [
    "Here, we have the Bitcoin (BTC) to US dollar (USD) exchange rate from\n",
    "March 2014 until today.\n",
    "\n",
    "Notice that the type of index is `DateTimeIndex`.\n",
    "\n",
    "This is the key that enables things like…\n",
    "\n",
    "Extracting all data for the year 2015 by passing `\"2015\"` to `.loc`."
   ]
  },
  {
   "cell_type": "code",
   "execution_count": 13,
   "id": "db73dd1c",
   "metadata": {
    "hide-output": false
   },
   "outputs": [
    {
     "data": {
      "text/html": [
       "<div>\n",
       "<style scoped>\n",
       "    .dataframe tbody tr th:only-of-type {\n",
       "        vertical-align: middle;\n",
       "    }\n",
       "\n",
       "    .dataframe tbody tr th {\n",
       "        vertical-align: top;\n",
       "    }\n",
       "\n",
       "    .dataframe thead th {\n",
       "        text-align: right;\n",
       "    }\n",
       "</style>\n",
       "<table border=\"1\" class=\"dataframe\">\n",
       "  <thead>\n",
       "    <tr style=\"text-align: right;\">\n",
       "      <th></th>\n",
       "      <th>Open</th>\n",
       "      <th>High</th>\n",
       "      <th>Low</th>\n",
       "      <th>Close</th>\n",
       "      <th>Volume (BTC)</th>\n",
       "      <th>Volume (Currency)</th>\n",
       "      <th>Weighted Price</th>\n",
       "    </tr>\n",
       "    <tr>\n",
       "      <th>Date</th>\n",
       "      <th></th>\n",
       "      <th></th>\n",
       "      <th></th>\n",
       "      <th></th>\n",
       "      <th></th>\n",
       "      <th></th>\n",
       "      <th></th>\n",
       "    </tr>\n",
       "  </thead>\n",
       "  <tbody>\n",
       "    <tr>\n",
       "      <th>2015-01-01</th>\n",
       "      <td>321.00</td>\n",
       "      <td>321.00</td>\n",
       "      <td>312.60</td>\n",
       "      <td>313.81</td>\n",
       "      <td>3087.436554</td>\n",
       "      <td>9.745096e+05</td>\n",
       "      <td>315.637119</td>\n",
       "    </tr>\n",
       "    <tr>\n",
       "      <th>2015-01-02</th>\n",
       "      <td>313.82</td>\n",
       "      <td>317.01</td>\n",
       "      <td>311.96</td>\n",
       "      <td>315.42</td>\n",
       "      <td>3468.281375</td>\n",
       "      <td>1.092446e+06</td>\n",
       "      <td>314.981849</td>\n",
       "    </tr>\n",
       "    <tr>\n",
       "      <th>2015-01-03</th>\n",
       "      <td>315.42</td>\n",
       "      <td>316.58</td>\n",
       "      <td>280.00</td>\n",
       "      <td>282.00</td>\n",
       "      <td>21752.719146</td>\n",
       "      <td>6.475952e+06</td>\n",
       "      <td>297.707695</td>\n",
       "    </tr>\n",
       "    <tr>\n",
       "      <th>2015-01-04</th>\n",
       "      <td>280.00</td>\n",
       "      <td>289.39</td>\n",
       "      <td>255.00</td>\n",
       "      <td>264.00</td>\n",
       "      <td>41441.278553</td>\n",
       "      <td>1.126676e+07</td>\n",
       "      <td>271.872950</td>\n",
       "    </tr>\n",
       "    <tr>\n",
       "      <th>2015-01-05</th>\n",
       "      <td>264.55</td>\n",
       "      <td>280.00</td>\n",
       "      <td>264.07</td>\n",
       "      <td>276.80</td>\n",
       "      <td>9528.271002</td>\n",
       "      <td>2.596898e+06</td>\n",
       "      <td>272.546601</td>\n",
       "    </tr>\n",
       "    <tr>\n",
       "      <th>...</th>\n",
       "      <td>...</td>\n",
       "      <td>...</td>\n",
       "      <td>...</td>\n",
       "      <td>...</td>\n",
       "      <td>...</td>\n",
       "      <td>...</td>\n",
       "      <td>...</td>\n",
       "    </tr>\n",
       "    <tr>\n",
       "      <th>2015-12-27</th>\n",
       "      <td>417.11</td>\n",
       "      <td>425.42</td>\n",
       "      <td>410.50</td>\n",
       "      <td>421.76</td>\n",
       "      <td>6968.573659</td>\n",
       "      <td>2.921475e+06</td>\n",
       "      <td>419.235752</td>\n",
       "    </tr>\n",
       "    <tr>\n",
       "      <th>2015-12-28</th>\n",
       "      <td>421.78</td>\n",
       "      <td>429.86</td>\n",
       "      <td>417.01</td>\n",
       "      <td>421.46</td>\n",
       "      <td>7560.562992</td>\n",
       "      <td>3.204102e+06</td>\n",
       "      <td>423.791428</td>\n",
       "    </tr>\n",
       "    <tr>\n",
       "      <th>2015-12-29</th>\n",
       "      <td>420.81</td>\n",
       "      <td>433.33</td>\n",
       "      <td>418.55</td>\n",
       "      <td>431.82</td>\n",
       "      <td>10419.585366</td>\n",
       "      <td>4.444308e+06</td>\n",
       "      <td>426.534057</td>\n",
       "    </tr>\n",
       "    <tr>\n",
       "      <th>2015-12-30</th>\n",
       "      <td>431.70</td>\n",
       "      <td>434.97</td>\n",
       "      <td>420.75</td>\n",
       "      <td>425.84</td>\n",
       "      <td>7717.510263</td>\n",
       "      <td>3.315825e+06</td>\n",
       "      <td>429.649630</td>\n",
       "    </tr>\n",
       "    <tr>\n",
       "      <th>2015-12-31</th>\n",
       "      <td>426.09</td>\n",
       "      <td>433.89</td>\n",
       "      <td>419.99</td>\n",
       "      <td>430.89</td>\n",
       "      <td>6634.863167</td>\n",
       "      <td>2.833320e+06</td>\n",
       "      <td>427.035137</td>\n",
       "    </tr>\n",
       "  </tbody>\n",
       "</table>\n",
       "<p>365 rows × 7 columns</p>\n",
       "</div>"
      ],
      "text/plain": [
       "              Open    High     Low   Close  Volume (BTC)  Volume (Currency)  \\\n",
       "Date                                                                          \n",
       "2015-01-01  321.00  321.00  312.60  313.81   3087.436554       9.745096e+05   \n",
       "2015-01-02  313.82  317.01  311.96  315.42   3468.281375       1.092446e+06   \n",
       "2015-01-03  315.42  316.58  280.00  282.00  21752.719146       6.475952e+06   \n",
       "2015-01-04  280.00  289.39  255.00  264.00  41441.278553       1.126676e+07   \n",
       "2015-01-05  264.55  280.00  264.07  276.80   9528.271002       2.596898e+06   \n",
       "...            ...     ...     ...     ...           ...                ...   \n",
       "2015-12-27  417.11  425.42  410.50  421.76   6968.573659       2.921475e+06   \n",
       "2015-12-28  421.78  429.86  417.01  421.46   7560.562992       3.204102e+06   \n",
       "2015-12-29  420.81  433.33  418.55  431.82  10419.585366       4.444308e+06   \n",
       "2015-12-30  431.70  434.97  420.75  425.84   7717.510263       3.315825e+06   \n",
       "2015-12-31  426.09  433.89  419.99  430.89   6634.863167       2.833320e+06   \n",
       "\n",
       "            Weighted Price  \n",
       "Date                        \n",
       "2015-01-01      315.637119  \n",
       "2015-01-02      314.981849  \n",
       "2015-01-03      297.707695  \n",
       "2015-01-04      271.872950  \n",
       "2015-01-05      272.546601  \n",
       "...                    ...  \n",
       "2015-12-27      419.235752  \n",
       "2015-12-28      423.791428  \n",
       "2015-12-29      426.534057  \n",
       "2015-12-30      429.649630  \n",
       "2015-12-31      427.035137  \n",
       "\n",
       "[365 rows x 7 columns]"
      ]
     },
     "execution_count": 13,
     "metadata": {},
     "output_type": "execute_result"
    }
   ],
   "source": [
    "btc_usd.loc[\"2015\"]"
   ]
  },
  {
   "cell_type": "markdown",
   "id": "5498279c",
   "metadata": {},
   "source": [
    "We can also narrow down to specific months."
   ]
  },
  {
   "cell_type": "code",
   "execution_count": 14,
   "id": "971aaa30",
   "metadata": {
    "hide-output": false
   },
   "outputs": [
    {
     "data": {
      "text/html": [
       "<div>\n",
       "<style scoped>\n",
       "    .dataframe tbody tr th:only-of-type {\n",
       "        vertical-align: middle;\n",
       "    }\n",
       "\n",
       "    .dataframe tbody tr th {\n",
       "        vertical-align: top;\n",
       "    }\n",
       "\n",
       "    .dataframe thead th {\n",
       "        text-align: right;\n",
       "    }\n",
       "</style>\n",
       "<table border=\"1\" class=\"dataframe\">\n",
       "  <thead>\n",
       "    <tr style=\"text-align: right;\">\n",
       "      <th></th>\n",
       "      <th>Open</th>\n",
       "      <th>High</th>\n",
       "      <th>Low</th>\n",
       "      <th>Close</th>\n",
       "      <th>Volume (BTC)</th>\n",
       "      <th>Volume (Currency)</th>\n",
       "      <th>Weighted Price</th>\n",
       "    </tr>\n",
       "    <tr>\n",
       "      <th>Date</th>\n",
       "      <th></th>\n",
       "      <th></th>\n",
       "      <th></th>\n",
       "      <th></th>\n",
       "      <th></th>\n",
       "      <th></th>\n",
       "      <th></th>\n",
       "    </tr>\n",
       "  </thead>\n",
       "  <tbody>\n",
       "    <tr>\n",
       "      <th>2017-08-01</th>\n",
       "      <td>2855.81</td>\n",
       "      <td>2929.17</td>\n",
       "      <td>2615.00</td>\n",
       "      <td>2731.00</td>\n",
       "      <td>12525.076691</td>\n",
       "      <td>3.432280e+07</td>\n",
       "      <td>2740.326259</td>\n",
       "    </tr>\n",
       "    <tr>\n",
       "      <th>2017-08-02</th>\n",
       "      <td>2732.00</td>\n",
       "      <td>2760.00</td>\n",
       "      <td>2650.00</td>\n",
       "      <td>2703.51</td>\n",
       "      <td>9486.625526</td>\n",
       "      <td>2.570111e+07</td>\n",
       "      <td>2709.193699</td>\n",
       "    </tr>\n",
       "    <tr>\n",
       "      <th>2017-08-03</th>\n",
       "      <td>2703.51</td>\n",
       "      <td>2807.44</td>\n",
       "      <td>2698.83</td>\n",
       "      <td>2793.37</td>\n",
       "      <td>7963.697999</td>\n",
       "      <td>2.193830e+07</td>\n",
       "      <td>2754.788542</td>\n",
       "    </tr>\n",
       "    <tr>\n",
       "      <th>2017-08-04</th>\n",
       "      <td>2793.34</td>\n",
       "      <td>2877.52</td>\n",
       "      <td>2765.91</td>\n",
       "      <td>2855.00</td>\n",
       "      <td>7635.821672</td>\n",
       "      <td>2.165009e+07</td>\n",
       "      <td>2835.331752</td>\n",
       "    </tr>\n",
       "    <tr>\n",
       "      <th>2017-08-05</th>\n",
       "      <td>2851.01</td>\n",
       "      <td>3339.66</td>\n",
       "      <td>2848.32</td>\n",
       "      <td>3263.62</td>\n",
       "      <td>16996.273101</td>\n",
       "      <td>5.386193e+07</td>\n",
       "      <td>3169.043337</td>\n",
       "    </tr>\n",
       "    <tr>\n",
       "      <th>2017-08-06</th>\n",
       "      <td>3263.51</td>\n",
       "      <td>3296.51</td>\n",
       "      <td>3146.10</td>\n",
       "      <td>3222.75</td>\n",
       "      <td>5998.735789</td>\n",
       "      <td>1.941266e+07</td>\n",
       "      <td>3236.124519</td>\n",
       "    </tr>\n",
       "    <tr>\n",
       "      <th>2017-08-07</th>\n",
       "      <td>3216.78</td>\n",
       "      <td>3430.00</td>\n",
       "      <td>3186.00</td>\n",
       "      <td>3387.55</td>\n",
       "      <td>12046.117265</td>\n",
       "      <td>4.022585e+07</td>\n",
       "      <td>3339.320971</td>\n",
       "    </tr>\n",
       "    <tr>\n",
       "      <th>2017-08-08</th>\n",
       "      <td>3387.54</td>\n",
       "      <td>3490.00</td>\n",
       "      <td>3300.00</td>\n",
       "      <td>3412.41</td>\n",
       "      <td>15835.370208</td>\n",
       "      <td>5.405482e+07</td>\n",
       "      <td>3413.549765</td>\n",
       "    </tr>\n",
       "    <tr>\n",
       "      <th>2017-08-09</th>\n",
       "      <td>3408.46</td>\n",
       "      <td>3423.10</td>\n",
       "      <td>3178.72</td>\n",
       "      <td>3342.99</td>\n",
       "      <td>14286.844138</td>\n",
       "      <td>4.735646e+07</td>\n",
       "      <td>3314.690350</td>\n",
       "    </tr>\n",
       "    <tr>\n",
       "      <th>2017-08-10</th>\n",
       "      <td>3342.99</td>\n",
       "      <td>3448.00</td>\n",
       "      <td>3311.17</td>\n",
       "      <td>3413.03</td>\n",
       "      <td>9031.121280</td>\n",
       "      <td>3.065844e+07</td>\n",
       "      <td>3394.754600</td>\n",
       "    </tr>\n",
       "    <tr>\n",
       "      <th>2017-08-11</th>\n",
       "      <td>3410.00</td>\n",
       "      <td>3705.00</td>\n",
       "      <td>3390.67</td>\n",
       "      <td>3645.06</td>\n",
       "      <td>11927.373334</td>\n",
       "      <td>4.188802e+07</td>\n",
       "      <td>3511.923462</td>\n",
       "    </tr>\n",
       "    <tr>\n",
       "      <th>2017-08-12</th>\n",
       "      <td>3651.74</td>\n",
       "      <td>3934.00</td>\n",
       "      <td>3586.95</td>\n",
       "      <td>3855.10</td>\n",
       "      <td>12351.074661</td>\n",
       "      <td>4.679980e+07</td>\n",
       "      <td>3789.127641</td>\n",
       "    </tr>\n",
       "    <tr>\n",
       "      <th>2017-08-13</th>\n",
       "      <td>3855.04</td>\n",
       "      <td>4190.00</td>\n",
       "      <td>3841.71</td>\n",
       "      <td>4053.87</td>\n",
       "      <td>15889.829788</td>\n",
       "      <td>6.367210e+07</td>\n",
       "      <td>4007.097892</td>\n",
       "    </tr>\n",
       "    <tr>\n",
       "      <th>2017-08-14</th>\n",
       "      <td>4053.87</td>\n",
       "      <td>4329.43</td>\n",
       "      <td>3964.96</td>\n",
       "      <td>4306.23</td>\n",
       "      <td>14212.304207</td>\n",
       "      <td>5.983600e+07</td>\n",
       "      <td>4210.154943</td>\n",
       "    </tr>\n",
       "    <tr>\n",
       "      <th>2017-08-15</th>\n",
       "      <td>4320.95</td>\n",
       "      <td>4400.00</td>\n",
       "      <td>3800.00</td>\n",
       "      <td>4155.67</td>\n",
       "      <td>25515.718014</td>\n",
       "      <td>1.046514e+08</td>\n",
       "      <td>4101.447155</td>\n",
       "    </tr>\n",
       "    <tr>\n",
       "      <th>2017-08-16</th>\n",
       "      <td>4154.99</td>\n",
       "      <td>4379.78</td>\n",
       "      <td>3926.06</td>\n",
       "      <td>4378.84</td>\n",
       "      <td>12923.637280</td>\n",
       "      <td>5.419433e+07</td>\n",
       "      <td>4193.426713</td>\n",
       "    </tr>\n",
       "    <tr>\n",
       "      <th>2017-08-17</th>\n",
       "      <td>4361.99</td>\n",
       "      <td>4480.00</td>\n",
       "      <td>4167.21</td>\n",
       "      <td>4276.50</td>\n",
       "      <td>14573.185929</td>\n",
       "      <td>6.322860e+07</td>\n",
       "      <td>4338.694675</td>\n",
       "    </tr>\n",
       "    <tr>\n",
       "      <th>2017-08-18</th>\n",
       "      <td>4260.47</td>\n",
       "      <td>4368.00</td>\n",
       "      <td>3964.96</td>\n",
       "      <td>4100.00</td>\n",
       "      <td>17516.993361</td>\n",
       "      <td>7.322403e+07</td>\n",
       "      <td>4180.171091</td>\n",
       "    </tr>\n",
       "    <tr>\n",
       "      <th>2017-08-19</th>\n",
       "      <td>4100.00</td>\n",
       "      <td>4188.00</td>\n",
       "      <td>3900.00</td>\n",
       "      <td>4099.55</td>\n",
       "      <td>15036.184051</td>\n",
       "      <td>6.060491e+07</td>\n",
       "      <td>4030.604133</td>\n",
       "    </tr>\n",
       "    <tr>\n",
       "      <th>2017-08-20</th>\n",
       "      <td>4091.99</td>\n",
       "      <td>4125.95</td>\n",
       "      <td>4000.00</td>\n",
       "      <td>4058.68</td>\n",
       "      <td>6237.972896</td>\n",
       "      <td>2.528964e+07</td>\n",
       "      <td>4054.143713</td>\n",
       "    </tr>\n",
       "    <tr>\n",
       "      <th>2017-08-21</th>\n",
       "      <td>4058.64</td>\n",
       "      <td>4080.00</td>\n",
       "      <td>3949.78</td>\n",
       "      <td>3987.52</td>\n",
       "      <td>9782.056594</td>\n",
       "      <td>3.920391e+07</td>\n",
       "      <td>4007.736878</td>\n",
       "    </tr>\n",
       "    <tr>\n",
       "      <th>2017-08-22</th>\n",
       "      <td>3987.51</td>\n",
       "      <td>4139.31</td>\n",
       "      <td>3600.00</td>\n",
       "      <td>4085.00</td>\n",
       "      <td>23522.758166</td>\n",
       "      <td>9.160033e+07</td>\n",
       "      <td>3894.115013</td>\n",
       "    </tr>\n",
       "    <tr>\n",
       "      <th>2017-08-23</th>\n",
       "      <td>4078.00</td>\n",
       "      <td>4248.97</td>\n",
       "      <td>4051.94</td>\n",
       "      <td>4108.12</td>\n",
       "      <td>14979.403481</td>\n",
       "      <td>6.211729e+07</td>\n",
       "      <td>4146.846811</td>\n",
       "    </tr>\n",
       "    <tr>\n",
       "      <th>2017-08-24</th>\n",
       "      <td>4121.78</td>\n",
       "      <td>4350.00</td>\n",
       "      <td>4082.57</td>\n",
       "      <td>4300.34</td>\n",
       "      <td>10782.694367</td>\n",
       "      <td>4.517407e+07</td>\n",
       "      <td>4189.497275</td>\n",
       "    </tr>\n",
       "    <tr>\n",
       "      <th>2017-08-25</th>\n",
       "      <td>4308.80</td>\n",
       "      <td>4449.98</td>\n",
       "      <td>4270.00</td>\n",
       "      <td>4355.98</td>\n",
       "      <td>9699.610034</td>\n",
       "      <td>4.227406e+07</td>\n",
       "      <td>4358.326082</td>\n",
       "    </tr>\n",
       "    <tr>\n",
       "      <th>2017-08-26</th>\n",
       "      <td>4348.17</td>\n",
       "      <td>4369.78</td>\n",
       "      <td>4232.43</td>\n",
       "      <td>4333.38</td>\n",
       "      <td>6559.668604</td>\n",
       "      <td>2.822792e+07</td>\n",
       "      <td>4303.253256</td>\n",
       "    </tr>\n",
       "    <tr>\n",
       "      <th>2017-08-27</th>\n",
       "      <td>4333.38</td>\n",
       "      <td>4393.30</td>\n",
       "      <td>4290.32</td>\n",
       "      <td>4337.68</td>\n",
       "      <td>3979.124453</td>\n",
       "      <td>1.726397e+07</td>\n",
       "      <td>4338.634650</td>\n",
       "    </tr>\n",
       "    <tr>\n",
       "      <th>2017-08-28</th>\n",
       "      <td>4329.91</td>\n",
       "      <td>4399.72</td>\n",
       "      <td>4169.01</td>\n",
       "      <td>4379.99</td>\n",
       "      <td>8641.002446</td>\n",
       "      <td>3.707720e+07</td>\n",
       "      <td>4290.845145</td>\n",
       "    </tr>\n",
       "    <tr>\n",
       "      <th>2017-08-29</th>\n",
       "      <td>4385.00</td>\n",
       "      <td>4649.78</td>\n",
       "      <td>4336.26</td>\n",
       "      <td>4578.82</td>\n",
       "      <td>11879.642831</td>\n",
       "      <td>5.349117e+07</td>\n",
       "      <td>4502.758977</td>\n",
       "    </tr>\n",
       "    <tr>\n",
       "      <th>2017-08-30</th>\n",
       "      <td>4578.82</td>\n",
       "      <td>4642.22</td>\n",
       "      <td>4479.00</td>\n",
       "      <td>4573.20</td>\n",
       "      <td>8720.035040</td>\n",
       "      <td>3.980054e+07</td>\n",
       "      <td>4564.263673</td>\n",
       "    </tr>\n",
       "    <tr>\n",
       "      <th>2017-08-31</th>\n",
       "      <td>4573.15</td>\n",
       "      <td>4765.21</td>\n",
       "      <td>4566.66</td>\n",
       "      <td>4734.26</td>\n",
       "      <td>8911.412459</td>\n",
       "      <td>4.172621e+07</td>\n",
       "      <td>4682.334106</td>\n",
       "    </tr>\n",
       "  </tbody>\n",
       "</table>\n",
       "</div>"
      ],
      "text/plain": [
       "               Open     High      Low    Close  Volume (BTC)  \\\n",
       "Date                                                           \n",
       "2017-08-01  2855.81  2929.17  2615.00  2731.00  12525.076691   \n",
       "2017-08-02  2732.00  2760.00  2650.00  2703.51   9486.625526   \n",
       "2017-08-03  2703.51  2807.44  2698.83  2793.37   7963.697999   \n",
       "2017-08-04  2793.34  2877.52  2765.91  2855.00   7635.821672   \n",
       "2017-08-05  2851.01  3339.66  2848.32  3263.62  16996.273101   \n",
       "2017-08-06  3263.51  3296.51  3146.10  3222.75   5998.735789   \n",
       "2017-08-07  3216.78  3430.00  3186.00  3387.55  12046.117265   \n",
       "2017-08-08  3387.54  3490.00  3300.00  3412.41  15835.370208   \n",
       "2017-08-09  3408.46  3423.10  3178.72  3342.99  14286.844138   \n",
       "2017-08-10  3342.99  3448.00  3311.17  3413.03   9031.121280   \n",
       "2017-08-11  3410.00  3705.00  3390.67  3645.06  11927.373334   \n",
       "2017-08-12  3651.74  3934.00  3586.95  3855.10  12351.074661   \n",
       "2017-08-13  3855.04  4190.00  3841.71  4053.87  15889.829788   \n",
       "2017-08-14  4053.87  4329.43  3964.96  4306.23  14212.304207   \n",
       "2017-08-15  4320.95  4400.00  3800.00  4155.67  25515.718014   \n",
       "2017-08-16  4154.99  4379.78  3926.06  4378.84  12923.637280   \n",
       "2017-08-17  4361.99  4480.00  4167.21  4276.50  14573.185929   \n",
       "2017-08-18  4260.47  4368.00  3964.96  4100.00  17516.993361   \n",
       "2017-08-19  4100.00  4188.00  3900.00  4099.55  15036.184051   \n",
       "2017-08-20  4091.99  4125.95  4000.00  4058.68   6237.972896   \n",
       "2017-08-21  4058.64  4080.00  3949.78  3987.52   9782.056594   \n",
       "2017-08-22  3987.51  4139.31  3600.00  4085.00  23522.758166   \n",
       "2017-08-23  4078.00  4248.97  4051.94  4108.12  14979.403481   \n",
       "2017-08-24  4121.78  4350.00  4082.57  4300.34  10782.694367   \n",
       "2017-08-25  4308.80  4449.98  4270.00  4355.98   9699.610034   \n",
       "2017-08-26  4348.17  4369.78  4232.43  4333.38   6559.668604   \n",
       "2017-08-27  4333.38  4393.30  4290.32  4337.68   3979.124453   \n",
       "2017-08-28  4329.91  4399.72  4169.01  4379.99   8641.002446   \n",
       "2017-08-29  4385.00  4649.78  4336.26  4578.82  11879.642831   \n",
       "2017-08-30  4578.82  4642.22  4479.00  4573.20   8720.035040   \n",
       "2017-08-31  4573.15  4765.21  4566.66  4734.26   8911.412459   \n",
       "\n",
       "            Volume (Currency)  Weighted Price  \n",
       "Date                                           \n",
       "2017-08-01       3.432280e+07     2740.326259  \n",
       "2017-08-02       2.570111e+07     2709.193699  \n",
       "2017-08-03       2.193830e+07     2754.788542  \n",
       "2017-08-04       2.165009e+07     2835.331752  \n",
       "2017-08-05       5.386193e+07     3169.043337  \n",
       "2017-08-06       1.941266e+07     3236.124519  \n",
       "2017-08-07       4.022585e+07     3339.320971  \n",
       "2017-08-08       5.405482e+07     3413.549765  \n",
       "2017-08-09       4.735646e+07     3314.690350  \n",
       "2017-08-10       3.065844e+07     3394.754600  \n",
       "2017-08-11       4.188802e+07     3511.923462  \n",
       "2017-08-12       4.679980e+07     3789.127641  \n",
       "2017-08-13       6.367210e+07     4007.097892  \n",
       "2017-08-14       5.983600e+07     4210.154943  \n",
       "2017-08-15       1.046514e+08     4101.447155  \n",
       "2017-08-16       5.419433e+07     4193.426713  \n",
       "2017-08-17       6.322860e+07     4338.694675  \n",
       "2017-08-18       7.322403e+07     4180.171091  \n",
       "2017-08-19       6.060491e+07     4030.604133  \n",
       "2017-08-20       2.528964e+07     4054.143713  \n",
       "2017-08-21       3.920391e+07     4007.736878  \n",
       "2017-08-22       9.160033e+07     3894.115013  \n",
       "2017-08-23       6.211729e+07     4146.846811  \n",
       "2017-08-24       4.517407e+07     4189.497275  \n",
       "2017-08-25       4.227406e+07     4358.326082  \n",
       "2017-08-26       2.822792e+07     4303.253256  \n",
       "2017-08-27       1.726397e+07     4338.634650  \n",
       "2017-08-28       3.707720e+07     4290.845145  \n",
       "2017-08-29       5.349117e+07     4502.758977  \n",
       "2017-08-30       3.980054e+07     4564.263673  \n",
       "2017-08-31       4.172621e+07     4682.334106  "
      ]
     },
     "execution_count": 14,
     "metadata": {},
     "output_type": "execute_result"
    }
   ],
   "source": [
    "# By month's name\n",
    "btc_usd.loc[\"August 2017\"]"
   ]
  },
  {
   "cell_type": "code",
   "execution_count": 15,
   "id": "378be579",
   "metadata": {
    "hide-output": false
   },
   "outputs": [
    {
     "data": {
      "text/html": [
       "<div>\n",
       "<style scoped>\n",
       "    .dataframe tbody tr th:only-of-type {\n",
       "        vertical-align: middle;\n",
       "    }\n",
       "\n",
       "    .dataframe tbody tr th {\n",
       "        vertical-align: top;\n",
       "    }\n",
       "\n",
       "    .dataframe thead th {\n",
       "        text-align: right;\n",
       "    }\n",
       "</style>\n",
       "<table border=\"1\" class=\"dataframe\">\n",
       "  <thead>\n",
       "    <tr style=\"text-align: right;\">\n",
       "      <th></th>\n",
       "      <th>Open</th>\n",
       "      <th>High</th>\n",
       "      <th>Low</th>\n",
       "      <th>Close</th>\n",
       "      <th>Volume (BTC)</th>\n",
       "      <th>Volume (Currency)</th>\n",
       "      <th>Weighted Price</th>\n",
       "    </tr>\n",
       "    <tr>\n",
       "      <th>Date</th>\n",
       "      <th></th>\n",
       "      <th></th>\n",
       "      <th></th>\n",
       "      <th></th>\n",
       "      <th></th>\n",
       "      <th></th>\n",
       "      <th></th>\n",
       "    </tr>\n",
       "  </thead>\n",
       "  <tbody>\n",
       "    <tr>\n",
       "      <th>2017-08-01</th>\n",
       "      <td>2855.81</td>\n",
       "      <td>2929.17</td>\n",
       "      <td>2615.00</td>\n",
       "      <td>2731.00</td>\n",
       "      <td>12525.076691</td>\n",
       "      <td>3.432280e+07</td>\n",
       "      <td>2740.326259</td>\n",
       "    </tr>\n",
       "    <tr>\n",
       "      <th>2017-08-02</th>\n",
       "      <td>2732.00</td>\n",
       "      <td>2760.00</td>\n",
       "      <td>2650.00</td>\n",
       "      <td>2703.51</td>\n",
       "      <td>9486.625526</td>\n",
       "      <td>2.570111e+07</td>\n",
       "      <td>2709.193699</td>\n",
       "    </tr>\n",
       "    <tr>\n",
       "      <th>2017-08-03</th>\n",
       "      <td>2703.51</td>\n",
       "      <td>2807.44</td>\n",
       "      <td>2698.83</td>\n",
       "      <td>2793.37</td>\n",
       "      <td>7963.697999</td>\n",
       "      <td>2.193830e+07</td>\n",
       "      <td>2754.788542</td>\n",
       "    </tr>\n",
       "    <tr>\n",
       "      <th>2017-08-04</th>\n",
       "      <td>2793.34</td>\n",
       "      <td>2877.52</td>\n",
       "      <td>2765.91</td>\n",
       "      <td>2855.00</td>\n",
       "      <td>7635.821672</td>\n",
       "      <td>2.165009e+07</td>\n",
       "      <td>2835.331752</td>\n",
       "    </tr>\n",
       "    <tr>\n",
       "      <th>2017-08-05</th>\n",
       "      <td>2851.01</td>\n",
       "      <td>3339.66</td>\n",
       "      <td>2848.32</td>\n",
       "      <td>3263.62</td>\n",
       "      <td>16996.273101</td>\n",
       "      <td>5.386193e+07</td>\n",
       "      <td>3169.043337</td>\n",
       "    </tr>\n",
       "    <tr>\n",
       "      <th>2017-08-06</th>\n",
       "      <td>3263.51</td>\n",
       "      <td>3296.51</td>\n",
       "      <td>3146.10</td>\n",
       "      <td>3222.75</td>\n",
       "      <td>5998.735789</td>\n",
       "      <td>1.941266e+07</td>\n",
       "      <td>3236.124519</td>\n",
       "    </tr>\n",
       "    <tr>\n",
       "      <th>2017-08-07</th>\n",
       "      <td>3216.78</td>\n",
       "      <td>3430.00</td>\n",
       "      <td>3186.00</td>\n",
       "      <td>3387.55</td>\n",
       "      <td>12046.117265</td>\n",
       "      <td>4.022585e+07</td>\n",
       "      <td>3339.320971</td>\n",
       "    </tr>\n",
       "    <tr>\n",
       "      <th>2017-08-08</th>\n",
       "      <td>3387.54</td>\n",
       "      <td>3490.00</td>\n",
       "      <td>3300.00</td>\n",
       "      <td>3412.41</td>\n",
       "      <td>15835.370208</td>\n",
       "      <td>5.405482e+07</td>\n",
       "      <td>3413.549765</td>\n",
       "    </tr>\n",
       "    <tr>\n",
       "      <th>2017-08-09</th>\n",
       "      <td>3408.46</td>\n",
       "      <td>3423.10</td>\n",
       "      <td>3178.72</td>\n",
       "      <td>3342.99</td>\n",
       "      <td>14286.844138</td>\n",
       "      <td>4.735646e+07</td>\n",
       "      <td>3314.690350</td>\n",
       "    </tr>\n",
       "    <tr>\n",
       "      <th>2017-08-10</th>\n",
       "      <td>3342.99</td>\n",
       "      <td>3448.00</td>\n",
       "      <td>3311.17</td>\n",
       "      <td>3413.03</td>\n",
       "      <td>9031.121280</td>\n",
       "      <td>3.065844e+07</td>\n",
       "      <td>3394.754600</td>\n",
       "    </tr>\n",
       "    <tr>\n",
       "      <th>2017-08-11</th>\n",
       "      <td>3410.00</td>\n",
       "      <td>3705.00</td>\n",
       "      <td>3390.67</td>\n",
       "      <td>3645.06</td>\n",
       "      <td>11927.373334</td>\n",
       "      <td>4.188802e+07</td>\n",
       "      <td>3511.923462</td>\n",
       "    </tr>\n",
       "    <tr>\n",
       "      <th>2017-08-12</th>\n",
       "      <td>3651.74</td>\n",
       "      <td>3934.00</td>\n",
       "      <td>3586.95</td>\n",
       "      <td>3855.10</td>\n",
       "      <td>12351.074661</td>\n",
       "      <td>4.679980e+07</td>\n",
       "      <td>3789.127641</td>\n",
       "    </tr>\n",
       "    <tr>\n",
       "      <th>2017-08-13</th>\n",
       "      <td>3855.04</td>\n",
       "      <td>4190.00</td>\n",
       "      <td>3841.71</td>\n",
       "      <td>4053.87</td>\n",
       "      <td>15889.829788</td>\n",
       "      <td>6.367210e+07</td>\n",
       "      <td>4007.097892</td>\n",
       "    </tr>\n",
       "    <tr>\n",
       "      <th>2017-08-14</th>\n",
       "      <td>4053.87</td>\n",
       "      <td>4329.43</td>\n",
       "      <td>3964.96</td>\n",
       "      <td>4306.23</td>\n",
       "      <td>14212.304207</td>\n",
       "      <td>5.983600e+07</td>\n",
       "      <td>4210.154943</td>\n",
       "    </tr>\n",
       "    <tr>\n",
       "      <th>2017-08-15</th>\n",
       "      <td>4320.95</td>\n",
       "      <td>4400.00</td>\n",
       "      <td>3800.00</td>\n",
       "      <td>4155.67</td>\n",
       "      <td>25515.718014</td>\n",
       "      <td>1.046514e+08</td>\n",
       "      <td>4101.447155</td>\n",
       "    </tr>\n",
       "    <tr>\n",
       "      <th>2017-08-16</th>\n",
       "      <td>4154.99</td>\n",
       "      <td>4379.78</td>\n",
       "      <td>3926.06</td>\n",
       "      <td>4378.84</td>\n",
       "      <td>12923.637280</td>\n",
       "      <td>5.419433e+07</td>\n",
       "      <td>4193.426713</td>\n",
       "    </tr>\n",
       "    <tr>\n",
       "      <th>2017-08-17</th>\n",
       "      <td>4361.99</td>\n",
       "      <td>4480.00</td>\n",
       "      <td>4167.21</td>\n",
       "      <td>4276.50</td>\n",
       "      <td>14573.185929</td>\n",
       "      <td>6.322860e+07</td>\n",
       "      <td>4338.694675</td>\n",
       "    </tr>\n",
       "    <tr>\n",
       "      <th>2017-08-18</th>\n",
       "      <td>4260.47</td>\n",
       "      <td>4368.00</td>\n",
       "      <td>3964.96</td>\n",
       "      <td>4100.00</td>\n",
       "      <td>17516.993361</td>\n",
       "      <td>7.322403e+07</td>\n",
       "      <td>4180.171091</td>\n",
       "    </tr>\n",
       "    <tr>\n",
       "      <th>2017-08-19</th>\n",
       "      <td>4100.00</td>\n",
       "      <td>4188.00</td>\n",
       "      <td>3900.00</td>\n",
       "      <td>4099.55</td>\n",
       "      <td>15036.184051</td>\n",
       "      <td>6.060491e+07</td>\n",
       "      <td>4030.604133</td>\n",
       "    </tr>\n",
       "    <tr>\n",
       "      <th>2017-08-20</th>\n",
       "      <td>4091.99</td>\n",
       "      <td>4125.95</td>\n",
       "      <td>4000.00</td>\n",
       "      <td>4058.68</td>\n",
       "      <td>6237.972896</td>\n",
       "      <td>2.528964e+07</td>\n",
       "      <td>4054.143713</td>\n",
       "    </tr>\n",
       "    <tr>\n",
       "      <th>2017-08-21</th>\n",
       "      <td>4058.64</td>\n",
       "      <td>4080.00</td>\n",
       "      <td>3949.78</td>\n",
       "      <td>3987.52</td>\n",
       "      <td>9782.056594</td>\n",
       "      <td>3.920391e+07</td>\n",
       "      <td>4007.736878</td>\n",
       "    </tr>\n",
       "    <tr>\n",
       "      <th>2017-08-22</th>\n",
       "      <td>3987.51</td>\n",
       "      <td>4139.31</td>\n",
       "      <td>3600.00</td>\n",
       "      <td>4085.00</td>\n",
       "      <td>23522.758166</td>\n",
       "      <td>9.160033e+07</td>\n",
       "      <td>3894.115013</td>\n",
       "    </tr>\n",
       "    <tr>\n",
       "      <th>2017-08-23</th>\n",
       "      <td>4078.00</td>\n",
       "      <td>4248.97</td>\n",
       "      <td>4051.94</td>\n",
       "      <td>4108.12</td>\n",
       "      <td>14979.403481</td>\n",
       "      <td>6.211729e+07</td>\n",
       "      <td>4146.846811</td>\n",
       "    </tr>\n",
       "    <tr>\n",
       "      <th>2017-08-24</th>\n",
       "      <td>4121.78</td>\n",
       "      <td>4350.00</td>\n",
       "      <td>4082.57</td>\n",
       "      <td>4300.34</td>\n",
       "      <td>10782.694367</td>\n",
       "      <td>4.517407e+07</td>\n",
       "      <td>4189.497275</td>\n",
       "    </tr>\n",
       "    <tr>\n",
       "      <th>2017-08-25</th>\n",
       "      <td>4308.80</td>\n",
       "      <td>4449.98</td>\n",
       "      <td>4270.00</td>\n",
       "      <td>4355.98</td>\n",
       "      <td>9699.610034</td>\n",
       "      <td>4.227406e+07</td>\n",
       "      <td>4358.326082</td>\n",
       "    </tr>\n",
       "    <tr>\n",
       "      <th>2017-08-26</th>\n",
       "      <td>4348.17</td>\n",
       "      <td>4369.78</td>\n",
       "      <td>4232.43</td>\n",
       "      <td>4333.38</td>\n",
       "      <td>6559.668604</td>\n",
       "      <td>2.822792e+07</td>\n",
       "      <td>4303.253256</td>\n",
       "    </tr>\n",
       "    <tr>\n",
       "      <th>2017-08-27</th>\n",
       "      <td>4333.38</td>\n",
       "      <td>4393.30</td>\n",
       "      <td>4290.32</td>\n",
       "      <td>4337.68</td>\n",
       "      <td>3979.124453</td>\n",
       "      <td>1.726397e+07</td>\n",
       "      <td>4338.634650</td>\n",
       "    </tr>\n",
       "    <tr>\n",
       "      <th>2017-08-28</th>\n",
       "      <td>4329.91</td>\n",
       "      <td>4399.72</td>\n",
       "      <td>4169.01</td>\n",
       "      <td>4379.99</td>\n",
       "      <td>8641.002446</td>\n",
       "      <td>3.707720e+07</td>\n",
       "      <td>4290.845145</td>\n",
       "    </tr>\n",
       "    <tr>\n",
       "      <th>2017-08-29</th>\n",
       "      <td>4385.00</td>\n",
       "      <td>4649.78</td>\n",
       "      <td>4336.26</td>\n",
       "      <td>4578.82</td>\n",
       "      <td>11879.642831</td>\n",
       "      <td>5.349117e+07</td>\n",
       "      <td>4502.758977</td>\n",
       "    </tr>\n",
       "    <tr>\n",
       "      <th>2017-08-30</th>\n",
       "      <td>4578.82</td>\n",
       "      <td>4642.22</td>\n",
       "      <td>4479.00</td>\n",
       "      <td>4573.20</td>\n",
       "      <td>8720.035040</td>\n",
       "      <td>3.980054e+07</td>\n",
       "      <td>4564.263673</td>\n",
       "    </tr>\n",
       "    <tr>\n",
       "      <th>2017-08-31</th>\n",
       "      <td>4573.15</td>\n",
       "      <td>4765.21</td>\n",
       "      <td>4566.66</td>\n",
       "      <td>4734.26</td>\n",
       "      <td>8911.412459</td>\n",
       "      <td>4.172621e+07</td>\n",
       "      <td>4682.334106</td>\n",
       "    </tr>\n",
       "  </tbody>\n",
       "</table>\n",
       "</div>"
      ],
      "text/plain": [
       "               Open     High      Low    Close  Volume (BTC)  \\\n",
       "Date                                                           \n",
       "2017-08-01  2855.81  2929.17  2615.00  2731.00  12525.076691   \n",
       "2017-08-02  2732.00  2760.00  2650.00  2703.51   9486.625526   \n",
       "2017-08-03  2703.51  2807.44  2698.83  2793.37   7963.697999   \n",
       "2017-08-04  2793.34  2877.52  2765.91  2855.00   7635.821672   \n",
       "2017-08-05  2851.01  3339.66  2848.32  3263.62  16996.273101   \n",
       "2017-08-06  3263.51  3296.51  3146.10  3222.75   5998.735789   \n",
       "2017-08-07  3216.78  3430.00  3186.00  3387.55  12046.117265   \n",
       "2017-08-08  3387.54  3490.00  3300.00  3412.41  15835.370208   \n",
       "2017-08-09  3408.46  3423.10  3178.72  3342.99  14286.844138   \n",
       "2017-08-10  3342.99  3448.00  3311.17  3413.03   9031.121280   \n",
       "2017-08-11  3410.00  3705.00  3390.67  3645.06  11927.373334   \n",
       "2017-08-12  3651.74  3934.00  3586.95  3855.10  12351.074661   \n",
       "2017-08-13  3855.04  4190.00  3841.71  4053.87  15889.829788   \n",
       "2017-08-14  4053.87  4329.43  3964.96  4306.23  14212.304207   \n",
       "2017-08-15  4320.95  4400.00  3800.00  4155.67  25515.718014   \n",
       "2017-08-16  4154.99  4379.78  3926.06  4378.84  12923.637280   \n",
       "2017-08-17  4361.99  4480.00  4167.21  4276.50  14573.185929   \n",
       "2017-08-18  4260.47  4368.00  3964.96  4100.00  17516.993361   \n",
       "2017-08-19  4100.00  4188.00  3900.00  4099.55  15036.184051   \n",
       "2017-08-20  4091.99  4125.95  4000.00  4058.68   6237.972896   \n",
       "2017-08-21  4058.64  4080.00  3949.78  3987.52   9782.056594   \n",
       "2017-08-22  3987.51  4139.31  3600.00  4085.00  23522.758166   \n",
       "2017-08-23  4078.00  4248.97  4051.94  4108.12  14979.403481   \n",
       "2017-08-24  4121.78  4350.00  4082.57  4300.34  10782.694367   \n",
       "2017-08-25  4308.80  4449.98  4270.00  4355.98   9699.610034   \n",
       "2017-08-26  4348.17  4369.78  4232.43  4333.38   6559.668604   \n",
       "2017-08-27  4333.38  4393.30  4290.32  4337.68   3979.124453   \n",
       "2017-08-28  4329.91  4399.72  4169.01  4379.99   8641.002446   \n",
       "2017-08-29  4385.00  4649.78  4336.26  4578.82  11879.642831   \n",
       "2017-08-30  4578.82  4642.22  4479.00  4573.20   8720.035040   \n",
       "2017-08-31  4573.15  4765.21  4566.66  4734.26   8911.412459   \n",
       "\n",
       "            Volume (Currency)  Weighted Price  \n",
       "Date                                           \n",
       "2017-08-01       3.432280e+07     2740.326259  \n",
       "2017-08-02       2.570111e+07     2709.193699  \n",
       "2017-08-03       2.193830e+07     2754.788542  \n",
       "2017-08-04       2.165009e+07     2835.331752  \n",
       "2017-08-05       5.386193e+07     3169.043337  \n",
       "2017-08-06       1.941266e+07     3236.124519  \n",
       "2017-08-07       4.022585e+07     3339.320971  \n",
       "2017-08-08       5.405482e+07     3413.549765  \n",
       "2017-08-09       4.735646e+07     3314.690350  \n",
       "2017-08-10       3.065844e+07     3394.754600  \n",
       "2017-08-11       4.188802e+07     3511.923462  \n",
       "2017-08-12       4.679980e+07     3789.127641  \n",
       "2017-08-13       6.367210e+07     4007.097892  \n",
       "2017-08-14       5.983600e+07     4210.154943  \n",
       "2017-08-15       1.046514e+08     4101.447155  \n",
       "2017-08-16       5.419433e+07     4193.426713  \n",
       "2017-08-17       6.322860e+07     4338.694675  \n",
       "2017-08-18       7.322403e+07     4180.171091  \n",
       "2017-08-19       6.060491e+07     4030.604133  \n",
       "2017-08-20       2.528964e+07     4054.143713  \n",
       "2017-08-21       3.920391e+07     4007.736878  \n",
       "2017-08-22       9.160033e+07     3894.115013  \n",
       "2017-08-23       6.211729e+07     4146.846811  \n",
       "2017-08-24       4.517407e+07     4189.497275  \n",
       "2017-08-25       4.227406e+07     4358.326082  \n",
       "2017-08-26       2.822792e+07     4303.253256  \n",
       "2017-08-27       1.726397e+07     4338.634650  \n",
       "2017-08-28       3.707720e+07     4290.845145  \n",
       "2017-08-29       5.349117e+07     4502.758977  \n",
       "2017-08-30       3.980054e+07     4564.263673  \n",
       "2017-08-31       4.172621e+07     4682.334106  "
      ]
     },
     "execution_count": 15,
     "metadata": {},
     "output_type": "execute_result"
    }
   ],
   "source": [
    "# By month's number\n",
    "btc_usd.loc[\"08/2017\"]"
   ]
  },
  {
   "cell_type": "markdown",
   "id": "9be1c40e",
   "metadata": {},
   "source": [
    "Or even a day…"
   ]
  },
  {
   "cell_type": "code",
   "execution_count": 16,
   "id": "02fd3194",
   "metadata": {
    "hide-output": false
   },
   "outputs": [
    {
     "data": {
      "text/plain": [
       "Open                 2.855810e+03\n",
       "High                 2.929170e+03\n",
       "Low                  2.615000e+03\n",
       "Close                2.731000e+03\n",
       "Volume (BTC)         1.252508e+04\n",
       "Volume (Currency)    3.432280e+07\n",
       "Weighted Price       2.740326e+03\n",
       "Name: 2017-08-01 00:00:00, dtype: float64"
      ]
     },
     "execution_count": 16,
     "metadata": {},
     "output_type": "execute_result"
    }
   ],
   "source": [
    "# By date name\n",
    "btc_usd.loc[\"August 1, 2017\"]"
   ]
  },
  {
   "cell_type": "code",
   "execution_count": 17,
   "id": "1adad409",
   "metadata": {
    "hide-output": false
   },
   "outputs": [
    {
     "data": {
      "text/plain": [
       "Open                 2.855810e+03\n",
       "High                 2.929170e+03\n",
       "Low                  2.615000e+03\n",
       "Close                2.731000e+03\n",
       "Volume (BTC)         1.252508e+04\n",
       "Volume (Currency)    3.432280e+07\n",
       "Weighted Price       2.740326e+03\n",
       "Name: 2017-08-01 00:00:00, dtype: float64"
      ]
     },
     "execution_count": 17,
     "metadata": {},
     "output_type": "execute_result"
    }
   ],
   "source": [
    "# By date number\n",
    "btc_usd.loc[\"08-01-2017\"]"
   ]
  },
  {
   "cell_type": "markdown",
   "id": "ebc9d274",
   "metadata": {},
   "source": [
    "What can we pass as the `.loc` argument when we have a\n",
    "`DateTimeIndex`?\n",
    "\n",
    "Anything that can be converted to a `datetime` using\n",
    "`pd.to_datetime`, *without* having to specify the format argument.\n",
    "\n",
    "When that condition holds, pandas will return *all* rows whose date in\n",
    "the index “belong” to that date or period.\n",
    "\n",
    "We can also use the range shorthand notation to give a start and end\n",
    "date for selection."
   ]
  },
  {
   "cell_type": "code",
   "execution_count": 18,
   "id": "c727ef29",
   "metadata": {
    "hide-output": false
   },
   "outputs": [
    {
     "data": {
      "text/html": [
       "<div>\n",
       "<style scoped>\n",
       "    .dataframe tbody tr th:only-of-type {\n",
       "        vertical-align: middle;\n",
       "    }\n",
       "\n",
       "    .dataframe tbody tr th {\n",
       "        vertical-align: top;\n",
       "    }\n",
       "\n",
       "    .dataframe thead th {\n",
       "        text-align: right;\n",
       "    }\n",
       "</style>\n",
       "<table border=\"1\" class=\"dataframe\">\n",
       "  <thead>\n",
       "    <tr style=\"text-align: right;\">\n",
       "      <th></th>\n",
       "      <th>Open</th>\n",
       "      <th>High</th>\n",
       "      <th>Low</th>\n",
       "      <th>Close</th>\n",
       "      <th>Volume (BTC)</th>\n",
       "      <th>Volume (Currency)</th>\n",
       "      <th>Weighted Price</th>\n",
       "    </tr>\n",
       "    <tr>\n",
       "      <th>Date</th>\n",
       "      <th></th>\n",
       "      <th></th>\n",
       "      <th></th>\n",
       "      <th></th>\n",
       "      <th></th>\n",
       "      <th></th>\n",
       "      <th></th>\n",
       "    </tr>\n",
       "  </thead>\n",
       "  <tbody>\n",
       "    <tr>\n",
       "      <th>2015-04-01</th>\n",
       "      <td>243.93</td>\n",
       "      <td>246.83</td>\n",
       "      <td>239.32</td>\n",
       "      <td>246.69</td>\n",
       "      <td>6226.016464</td>\n",
       "      <td>1.513601e+06</td>\n",
       "      <td>243.109050</td>\n",
       "    </tr>\n",
       "    <tr>\n",
       "      <th>2015-04-02</th>\n",
       "      <td>246.68</td>\n",
       "      <td>256.96</td>\n",
       "      <td>244.52</td>\n",
       "      <td>253.28</td>\n",
       "      <td>9806.822203</td>\n",
       "      <td>2.453664e+06</td>\n",
       "      <td>250.199655</td>\n",
       "    </tr>\n",
       "    <tr>\n",
       "      <th>2015-04-03</th>\n",
       "      <td>253.22</td>\n",
       "      <td>256.67</td>\n",
       "      <td>251.23</td>\n",
       "      <td>254.19</td>\n",
       "      <td>5048.577376</td>\n",
       "      <td>1.283171e+06</td>\n",
       "      <td>254.164902</td>\n",
       "    </tr>\n",
       "    <tr>\n",
       "      <th>2015-04-04</th>\n",
       "      <td>254.19</td>\n",
       "      <td>255.85</td>\n",
       "      <td>250.76</td>\n",
       "      <td>253.70</td>\n",
       "      <td>2769.281658</td>\n",
       "      <td>7.002845e+05</td>\n",
       "      <td>252.875870</td>\n",
       "    </tr>\n",
       "    <tr>\n",
       "      <th>2015-04-05</th>\n",
       "      <td>253.60</td>\n",
       "      <td>261.00</td>\n",
       "      <td>251.65</td>\n",
       "      <td>260.54</td>\n",
       "      <td>5759.360160</td>\n",
       "      <td>1.479483e+06</td>\n",
       "      <td>256.883285</td>\n",
       "    </tr>\n",
       "    <tr>\n",
       "      <th>2015-04-06</th>\n",
       "      <td>260.57</td>\n",
       "      <td>262.98</td>\n",
       "      <td>254.00</td>\n",
       "      <td>255.58</td>\n",
       "      <td>5960.677633</td>\n",
       "      <td>1.535495e+06</td>\n",
       "      <td>257.604180</td>\n",
       "    </tr>\n",
       "    <tr>\n",
       "      <th>2015-04-07</th>\n",
       "      <td>255.54</td>\n",
       "      <td>256.62</td>\n",
       "      <td>251.50</td>\n",
       "      <td>253.72</td>\n",
       "      <td>6010.267582</td>\n",
       "      <td>1.528034e+06</td>\n",
       "      <td>254.237260</td>\n",
       "    </tr>\n",
       "    <tr>\n",
       "      <th>2015-04-08</th>\n",
       "      <td>253.71</td>\n",
       "      <td>254.96</td>\n",
       "      <td>243.06</td>\n",
       "      <td>244.58</td>\n",
       "      <td>11663.656155</td>\n",
       "      <td>2.878712e+06</td>\n",
       "      <td>246.810407</td>\n",
       "    </tr>\n",
       "    <tr>\n",
       "      <th>2015-04-09</th>\n",
       "      <td>244.84</td>\n",
       "      <td>246.30</td>\n",
       "      <td>238.47</td>\n",
       "      <td>243.43</td>\n",
       "      <td>7943.710541</td>\n",
       "      <td>1.932558e+06</td>\n",
       "      <td>243.281478</td>\n",
       "    </tr>\n",
       "    <tr>\n",
       "      <th>2015-04-10</th>\n",
       "      <td>243.75</td>\n",
       "      <td>243.94</td>\n",
       "      <td>231.00</td>\n",
       "      <td>235.99</td>\n",
       "      <td>11549.630656</td>\n",
       "      <td>2.728444e+06</td>\n",
       "      <td>236.236497</td>\n",
       "    </tr>\n",
       "  </tbody>\n",
       "</table>\n",
       "</div>"
      ],
      "text/plain": [
       "              Open    High     Low   Close  Volume (BTC)  Volume (Currency)  \\\n",
       "Date                                                                          \n",
       "2015-04-01  243.93  246.83  239.32  246.69   6226.016464       1.513601e+06   \n",
       "2015-04-02  246.68  256.96  244.52  253.28   9806.822203       2.453664e+06   \n",
       "2015-04-03  253.22  256.67  251.23  254.19   5048.577376       1.283171e+06   \n",
       "2015-04-04  254.19  255.85  250.76  253.70   2769.281658       7.002845e+05   \n",
       "2015-04-05  253.60  261.00  251.65  260.54   5759.360160       1.479483e+06   \n",
       "2015-04-06  260.57  262.98  254.00  255.58   5960.677633       1.535495e+06   \n",
       "2015-04-07  255.54  256.62  251.50  253.72   6010.267582       1.528034e+06   \n",
       "2015-04-08  253.71  254.96  243.06  244.58  11663.656155       2.878712e+06   \n",
       "2015-04-09  244.84  246.30  238.47  243.43   7943.710541       1.932558e+06   \n",
       "2015-04-10  243.75  243.94  231.00  235.99  11549.630656       2.728444e+06   \n",
       "\n",
       "            Weighted Price  \n",
       "Date                        \n",
       "2015-04-01      243.109050  \n",
       "2015-04-02      250.199655  \n",
       "2015-04-03      254.164902  \n",
       "2015-04-04      252.875870  \n",
       "2015-04-05      256.883285  \n",
       "2015-04-06      257.604180  \n",
       "2015-04-07      254.237260  \n",
       "2015-04-08      246.810407  \n",
       "2015-04-09      243.281478  \n",
       "2015-04-10      236.236497  "
      ]
     },
     "execution_count": 18,
     "metadata": {},
     "output_type": "execute_result"
    }
   ],
   "source": [
    "btc_usd.loc[\"April 1, 2015\":\"April 10, 2015\"]"
   ]
  },
  {
   "cell_type": "markdown",
   "id": "e10dd744",
   "metadata": {},
   "source": [
    "## Exercise\n",
    "\n",
    "See exercise 3 in the [exercise list](#pd-tim-ex)."
   ]
  },
  {
   "cell_type": "markdown",
   "id": "71310043",
   "metadata": {},
   "source": [
    "## Accessing Date Properties\n",
    "\n",
    "Sometimes, we would like to directly access a part of the date/time.\n",
    "\n",
    "If our date/time information is in the index, we can to `df.index.XX`\n",
    "where `XX` is replaced by `year`, `month`, or whatever we would\n",
    "like to access."
   ]
  },
  {
   "cell_type": "code",
   "execution_count": 19,
   "id": "37de7eb9",
   "metadata": {
    "hide-output": false
   },
   "outputs": [
    {
     "data": {
      "text/plain": [
       "Int64Index([2014, 2014, 2014, 2014, 2014, 2014, 2014, 2014, 2014, 2014,\n",
       "            ...\n",
       "            2021, 2021, 2021, 2021, 2021, 2021, 2021, 2021, 2021, 2021],\n",
       "           dtype='int64', name='Date', length=2599)"
      ]
     },
     "execution_count": 19,
     "metadata": {},
     "output_type": "execute_result"
    }
   ],
   "source": [
    "btc_usd.index.year"
   ]
  },
  {
   "cell_type": "code",
   "execution_count": 20,
   "id": "e0bd02e0",
   "metadata": {
    "hide-output": false
   },
   "outputs": [
    {
     "data": {
      "text/plain": [
       "Int64Index([ 1,  2,  3,  4,  5,  6,  7,  8,  9, 10,\n",
       "            ...\n",
       "            11, 12, 13, 14, 15, 16, 17, 18, 19, 20],\n",
       "           dtype='int64', name='Date', length=2599)"
      ]
     },
     "execution_count": 20,
     "metadata": {},
     "output_type": "execute_result"
    }
   ],
   "source": [
    "btc_usd.index.day"
   ]
  },
  {
   "cell_type": "markdown",
   "id": "e5b3b7c3",
   "metadata": {},
   "source": [
    "We can also do the same if the date/time information is stored in a\n",
    "column, but we have to use a slightly different syntax."
   ]
  },
  {
   "cell_type": "code",
   "execution_count": 21,
   "id": "7f8dca22",
   "metadata": {
    "hide-output": false
   },
   "outputs": [
    {
     "ename": "NameError",
     "evalue": "name 'df' is not defined",
     "output_type": "error",
     "traceback": [
      "\u001b[0;31m---------------------------------------------------------------------------\u001b[0m",
      "\u001b[0;31mNameError\u001b[0m                                 Traceback (most recent call last)",
      "\u001b[0;32m<ipython-input-21-83a6122645f1>\u001b[0m in \u001b[0;36m<module>\u001b[0;34m\u001b[0m\n\u001b[0;32m----> 1\u001b[0;31m \u001b[0mdf\u001b[0m\u001b[0;34m[\u001b[0m\u001b[0;34m\"column_name\"\u001b[0m\u001b[0;34m]\u001b[0m\u001b[0;34m.\u001b[0m\u001b[0mdt\u001b[0m\u001b[0;34m.\u001b[0m\u001b[0mXX\u001b[0m\u001b[0;34m\u001b[0m\u001b[0;34m\u001b[0m\u001b[0m\n\u001b[0m",
      "\u001b[0;31mNameError\u001b[0m: name 'df' is not defined"
     ]
    }
   ],
   "source": [
    "df[\"column_name\"].dt.XX"
   ]
  },
  {
   "cell_type": "code",
   "execution_count": 22,
   "id": "f3ca9981",
   "metadata": {
    "hide-output": false
   },
   "outputs": [
    {
     "data": {
      "text/html": [
       "<div>\n",
       "<style scoped>\n",
       "    .dataframe tbody tr th:only-of-type {\n",
       "        vertical-align: middle;\n",
       "    }\n",
       "\n",
       "    .dataframe tbody tr th {\n",
       "        vertical-align: top;\n",
       "    }\n",
       "\n",
       "    .dataframe thead th {\n",
       "        text-align: right;\n",
       "    }\n",
       "</style>\n",
       "<table border=\"1\" class=\"dataframe\">\n",
       "  <thead>\n",
       "    <tr style=\"text-align: right;\">\n",
       "      <th></th>\n",
       "      <th>Date</th>\n",
       "      <th>Open</th>\n",
       "      <th>High</th>\n",
       "      <th>Low</th>\n",
       "      <th>Close</th>\n",
       "      <th>Volume (BTC)</th>\n",
       "      <th>Volume (Currency)</th>\n",
       "      <th>Weighted Price</th>\n",
       "    </tr>\n",
       "  </thead>\n",
       "  <tbody>\n",
       "    <tr>\n",
       "      <th>0</th>\n",
       "      <td>2014-05-01</td>\n",
       "      <td>449.00</td>\n",
       "      <td>465.88</td>\n",
       "      <td>447.97</td>\n",
       "      <td>460.97</td>\n",
       "      <td>9556.037886</td>\n",
       "      <td>4.381969e+06</td>\n",
       "      <td>458.554960</td>\n",
       "    </tr>\n",
       "    <tr>\n",
       "      <th>1</th>\n",
       "      <td>2014-05-02</td>\n",
       "      <td>460.97</td>\n",
       "      <td>462.99</td>\n",
       "      <td>444.51</td>\n",
       "      <td>454.50</td>\n",
       "      <td>8269.891417</td>\n",
       "      <td>3.731061e+06</td>\n",
       "      <td>451.162018</td>\n",
       "    </tr>\n",
       "    <tr>\n",
       "      <th>2</th>\n",
       "      <td>2014-05-03</td>\n",
       "      <td>452.00</td>\n",
       "      <td>454.50</td>\n",
       "      <td>431.00</td>\n",
       "      <td>439.00</td>\n",
       "      <td>7431.626480</td>\n",
       "      <td>3.271086e+06</td>\n",
       "      <td>440.157544</td>\n",
       "    </tr>\n",
       "    <tr>\n",
       "      <th>3</th>\n",
       "      <td>2014-05-04</td>\n",
       "      <td>439.00</td>\n",
       "      <td>442.83</td>\n",
       "      <td>429.55</td>\n",
       "      <td>438.04</td>\n",
       "      <td>5154.407794</td>\n",
       "      <td>2.245293e+06</td>\n",
       "      <td>435.606483</td>\n",
       "    </tr>\n",
       "    <tr>\n",
       "      <th>4</th>\n",
       "      <td>2014-05-05</td>\n",
       "      <td>435.88</td>\n",
       "      <td>445.00</td>\n",
       "      <td>425.00</td>\n",
       "      <td>433.00</td>\n",
       "      <td>8188.082795</td>\n",
       "      <td>3.547855e+06</td>\n",
       "      <td>433.294968</td>\n",
       "    </tr>\n",
       "  </tbody>\n",
       "</table>\n",
       "</div>"
      ],
      "text/plain": [
       "        Date    Open    High     Low   Close  Volume (BTC)  Volume (Currency)  \\\n",
       "0 2014-05-01  449.00  465.88  447.97  460.97   9556.037886       4.381969e+06   \n",
       "1 2014-05-02  460.97  462.99  444.51  454.50   8269.891417       3.731061e+06   \n",
       "2 2014-05-03  452.00  454.50  431.00  439.00   7431.626480       3.271086e+06   \n",
       "3 2014-05-04  439.00  442.83  429.55  438.04   5154.407794       2.245293e+06   \n",
       "4 2014-05-05  435.88  445.00  425.00  433.00   8188.082795       3.547855e+06   \n",
       "\n",
       "   Weighted Price  \n",
       "0      458.554960  \n",
       "1      451.162018  \n",
       "2      440.157544  \n",
       "3      435.606483  \n",
       "4      433.294968  "
      ]
     },
     "execution_count": 22,
     "metadata": {},
     "output_type": "execute_result"
    }
   ],
   "source": [
    "btc_date_column = btc_usd.reset_index()\n",
    "btc_date_column.head()"
   ]
  },
  {
   "cell_type": "code",
   "execution_count": null,
   "id": "c724f2cd",
   "metadata": {
    "hide-output": false
   },
   "outputs": [],
   "source": [
    "btc_date_column[\"Date\"].dt.year.head()"
   ]
  },
  {
   "cell_type": "code",
   "execution_count": null,
   "id": "ec97eb96",
   "metadata": {
    "hide-output": false
   },
   "outputs": [],
   "source": [
    "btc_date_column[\"Date\"].dt.month.head()"
   ]
  },
  {
   "cell_type": "markdown",
   "id": "5488ddfa",
   "metadata": {},
   "source": [
    "## Leads and Lags: `df.shift`\n",
    "\n",
    "When doing time series analysis, we often want to compare data at one\n",
    "date against data at another date.\n",
    "\n",
    "pandas can help us with this if we leverage the `shift` method.\n",
    "\n",
    "Without any additional arguments, `shift()` will move all data\n",
    "*forward* one period, filling the first row with missing data."
   ]
  },
  {
   "cell_type": "code",
   "execution_count": null,
   "id": "8172f23f",
   "metadata": {
    "hide-output": false
   },
   "outputs": [],
   "source": [
    "# so we can see the result of shift clearly\n",
    "btc_usd.head()"
   ]
  },
  {
   "cell_type": "code",
   "execution_count": null,
   "id": "969294d6",
   "metadata": {
    "hide-output": false
   },
   "outputs": [],
   "source": [
    "btc_usd.shift().head()"
   ]
  },
  {
   "cell_type": "markdown",
   "id": "2bb94db6",
   "metadata": {},
   "source": [
    "We can use this to compute the percent change from one day to the next.\n",
    "(Quiz: Why does that work? Remember how pandas uses the index to *align*\n",
    "data.)"
   ]
  },
  {
   "cell_type": "code",
   "execution_count": null,
   "id": "0d57f158",
   "metadata": {
    "hide-output": false
   },
   "outputs": [],
   "source": [
    "((btc_usd - btc_usd.shift()) / btc_usd.shift()).head()"
   ]
  },
  {
   "cell_type": "markdown",
   "id": "b59d1181",
   "metadata": {},
   "source": [
    "Setting the first argument to `n` tells pandas to shift the data down\n",
    "`n` rows (apply an `n` period lag)."
   ]
  },
  {
   "cell_type": "code",
   "execution_count": null,
   "id": "04665fb0",
   "metadata": {
    "hide-output": false
   },
   "outputs": [],
   "source": [
    "btc_usd.shift(3).head()"
   ]
  },
  {
   "cell_type": "markdown",
   "id": "4345e131",
   "metadata": {},
   "source": [
    "A negative value will shift the data *up* or apply a lead."
   ]
  },
  {
   "cell_type": "code",
   "execution_count": null,
   "id": "33e10353",
   "metadata": {
    "hide-output": false
   },
   "outputs": [],
   "source": [
    "btc_usd.shift(-2).head()"
   ]
  },
  {
   "cell_type": "code",
   "execution_count": null,
   "id": "f7b541f2",
   "metadata": {
    "hide-output": false
   },
   "outputs": [],
   "source": [
    "btc_usd.shift(-2).tail()"
   ]
  },
  {
   "cell_type": "markdown",
   "id": "adba9af0",
   "metadata": {},
   "source": [
    "## Exercise\n",
    "\n",
    "See exercise 4 in the [exercise list](#pd-tim-ex)."
   ]
  },
  {
   "cell_type": "markdown",
   "id": "8a6c4fb1",
   "metadata": {},
   "source": [
    "## Rolling Computations: `.rolling`\n",
    "\n",
    "pandas has facilities that enable easy computation of *rolling\n",
    "statistics*.\n",
    "\n",
    "These are best understood by example, so we will dive right in."
   ]
  },
  {
   "cell_type": "code",
   "execution_count": null,
   "id": "fa053cb0",
   "metadata": {
    "hide-output": false
   },
   "outputs": [],
   "source": [
    "# first take only the first 6 rows so we can easily see what is going on\n",
    "btc_small = btc_usd.head(6)\n",
    "btc_small"
   ]
  },
  {
   "cell_type": "markdown",
   "id": "1e22c172",
   "metadata": {},
   "source": [
    "Below, we compute the 2 day moving average (for all columns)."
   ]
  },
  {
   "cell_type": "code",
   "execution_count": null,
   "id": "0ab36ca8",
   "metadata": {
    "hide-output": false
   },
   "outputs": [],
   "source": [
    "btc_small.rolling(\"2d\").mean()"
   ]
  },
  {
   "cell_type": "markdown",
   "id": "2fcb582a",
   "metadata": {},
   "source": [
    "To do this operation, pandas starts at each row (date) then looks\n",
    "*backwards* the specified number of periods (here 2 days) and then\n",
    "applies some aggregation function (`mean`) on all the data in that\n",
    "window.\n",
    "\n",
    "If pandas cannot look back the full length of the window (e.g. when\n",
    "working on the first row), it fills as much of the window as possible\n",
    "and then does the operation. Notice that the value at 2014-05-01 is\n",
    "the same in both DataFrames.\n",
    "\n",
    "Below, we see a visual depiction of the rolling maximum on a 21 day\n",
    "window for the whole dataset."
   ]
  },
  {
   "cell_type": "code",
   "execution_count": null,
   "id": "2de4b248",
   "metadata": {
    "hide-output": false
   },
   "outputs": [],
   "source": [
    "fig, ax = plt.subplots(figsize=(10, 4))\n",
    "btc_usd[\"Open\"].plot(ax=ax, linestyle=\"--\", alpha=0.8)\n",
    "btc_usd.rolling(\"21d\").max()[\"Open\"].plot(ax=ax, alpha=0.8, linewidth=3)\n",
    "ax.legend([\"Original\", \"21 day max\"])"
   ]
  },
  {
   "cell_type": "markdown",
   "id": "05d01274",
   "metadata": {},
   "source": [
    "We can also ask pandas to `apply` custom functions, similar to what we\n",
    "saw when studying GroupBy."
   ]
  },
  {
   "cell_type": "code",
   "execution_count": null,
   "id": "644c2827",
   "metadata": {
    "hide-output": false
   },
   "outputs": [],
   "source": [
    "def is_volatile(x):\n",
    "    \"Returns a 1 if the variance is greater than 1, otherwise returns 0\"\n",
    "    if x.var() > 1.0:\n",
    "        return 1.0\n",
    "    else:\n",
    "        return 0.0"
   ]
  },
  {
   "cell_type": "code",
   "execution_count": null,
   "id": "b8dd229a",
   "metadata": {
    "hide-output": false
   },
   "outputs": [],
   "source": [
    "btc_small.rolling(\"2d\").apply(is_volatile)"
   ]
  },
  {
   "cell_type": "markdown",
   "id": "f69f87df",
   "metadata": {},
   "source": [
    "## Exercise\n",
    "\n",
    "See exercise 5 in the [exercise list](#pd-tim-ex).\n",
    "\n",
    "To make the optimal decision, we need to know the maximum\n",
    "difference between the close price at the end of the window and the open\n",
    "price at the start of the window."
   ]
  },
  {
   "cell_type": "markdown",
   "id": "038f2ef4",
   "metadata": {},
   "source": [
    "## Exercise\n",
    "\n",
    "See exercise 6 in the [exercise list](#pd-tim-ex)."
   ]
  },
  {
   "cell_type": "markdown",
   "id": "cd484846",
   "metadata": {},
   "source": [
    "## Changing Frequencies: `.resample`\n",
    "\n",
    "In addition to computing rolling statistics, we can also change the\n",
    "frequency of the data.\n",
    "\n",
    "For example, instead of a monthly moving average, suppose that we wanted\n",
    "to compute the average *within* each calendar month.\n",
    "\n",
    "We will use the `resample` method to do this.\n",
    "\n",
    "Below are some examples."
   ]
  },
  {
   "cell_type": "code",
   "execution_count": null,
   "id": "056ad19e",
   "metadata": {
    "hide-output": false
   },
   "outputs": [],
   "source": [
    "# business quarter\n",
    "btc_usd.resample(\"BQ\").mean()"
   ]
  },
  {
   "cell_type": "markdown",
   "id": "bdb41ac7",
   "metadata": {},
   "source": [
    "Note that unlike with `rolling`, a single number is returned for\n",
    "each column for each quarter.\n",
    "\n",
    "The `resample` method will alter the frequency of the data and the\n",
    "number of rows in the result will be different from the number of rows\n",
    "in the input.\n",
    "\n",
    "On the other hand, with `rolling`, the size and frequency of the result\n",
    "are the same as the input.\n",
    "\n",
    "We can sample at other frequencies and aggregate with multiple aggregations\n",
    "function at once."
   ]
  },
  {
   "cell_type": "code",
   "execution_count": null,
   "id": "906af000",
   "metadata": {
    "hide-output": false
   },
   "outputs": [],
   "source": [
    "# multiple functions at 2 start-of-quarter frequency\n",
    "btc_usd.resample(\"2BQS\").agg([\"min\", \"max\"])"
   ]
  },
  {
   "cell_type": "markdown",
   "id": "9700cdea",
   "metadata": {},
   "source": [
    "As with `groupby` and `rolling`, you can also provide custom\n",
    "functions to `.resample(...).agg` and `.resample(...).apply`"
   ]
  },
  {
   "cell_type": "markdown",
   "id": "c92a2aa0",
   "metadata": {},
   "source": [
    "## Exercise\n",
    "\n",
    "See exercise 7 in the [exercise list](#pd-tim-ex).\n",
    "\n",
    "To make the optimal decision we need to, for each month,\n",
    "compute the maximum value of the close price on any day minus the open\n",
    "price on the first day of the month."
   ]
  },
  {
   "cell_type": "markdown",
   "id": "d10684d6",
   "metadata": {},
   "source": [
    "## Exercise\n",
    "\n",
    "See exercise 8 in the [exercise list](#pd-tim-ex)."
   ]
  },
  {
   "cell_type": "markdown",
   "id": "11a41eff",
   "metadata": {},
   "source": [
    "## Optional: API keys\n",
    "\n",
    "Recall above that we had the line of code:"
   ]
  },
  {
   "cell_type": "code",
   "execution_count": null,
   "id": "9b8204ea",
   "metadata": {
    "hide-output": false
   },
   "outputs": [],
   "source": [
    "quandl.ApiConfig.api_key = \"Dn6BtVoBhzuKTuyo6hbp\""
   ]
  },
  {
   "cell_type": "markdown",
   "id": "20921b14",
   "metadata": {},
   "source": [
    "This line told the `quandl` library that when obtaining making requests for data, it should use the *API key* `Dn6BtVoBhzuKTuyo6hbp`.\n",
    "\n",
    "An API key is a sort of password that web services (like the Quandl API) require you to provide when you make requests.\n",
    "\n",
    "Using this password, we were able to make a request to Quandl to obtain data directly from them.\n",
    "\n",
    "The API key used here is one that we requested on behalf of this course.\n",
    "\n",
    "If you plan to use Quandl more extensively, you should obtain your own personal API key from [their website](https://docs.quandl.com/docs#section-authentication) and re-run the `quandl.ApiConfig.api_key...` line of code with your new API key on the right-hand side.\n",
    "\n",
    "\n",
    "<a id='pd-tim-ex'></a>"
   ]
  },
  {
   "cell_type": "markdown",
   "id": "ed5e2dc4",
   "metadata": {},
   "source": [
    "## Exercises"
   ]
  },
  {
   "cell_type": "markdown",
   "id": "c12d5289",
   "metadata": {},
   "source": [
    "### Exercise 1\n",
    "\n",
    "By referring to table found at the link above, figure out the correct argument to\n",
    "pass as `format` in order to parse the dates in the next three cells below.\n",
    "\n",
    "Test your work by passing your format string to `pd.to_datetime`."
   ]
  },
  {
   "cell_type": "code",
   "execution_count": null,
   "id": "4f450b1c",
   "metadata": {
    "hide-output": false
   },
   "outputs": [],
   "source": [
    "christmas_str2 = \"2017:12:25\""
   ]
  },
  {
   "cell_type": "code",
   "execution_count": null,
   "id": "3bc0dfee",
   "metadata": {
    "hide-output": false
   },
   "outputs": [],
   "source": [
    "dbacks_win = \"M:11 D:4 Y:2001 9:15 PM\""
   ]
  },
  {
   "cell_type": "code",
   "execution_count": null,
   "id": "d4aeafb1",
   "metadata": {
    "hide-output": false
   },
   "outputs": [],
   "source": [
    "america_bday = \"America was born on July 4, 1776\""
   ]
  },
  {
   "cell_type": "markdown",
   "id": "05894c81",
   "metadata": {},
   "source": [
    "([back to text](#pd-tim-dir1))"
   ]
  },
  {
   "cell_type": "markdown",
   "id": "138f8660",
   "metadata": {},
   "source": [
    "### Exercise 2\n",
    "\n",
    "Use `pd.to_datetime` to express the birthday of one of your friends\n",
    "or family members as a `datetime` object.\n",
    "\n",
    "Then use the `strftime` method to write a message of the format:"
   ]
  },
  {
   "cell_type": "code",
   "execution_count": null,
   "id": "f8474073",
   "metadata": {
    "hide-output": false
   },
   "outputs": [],
   "source": [
    "NAME's birthday is June 10, 1989 (a Saturday)"
   ]
  },
  {
   "cell_type": "markdown",
   "id": "e61c31f0",
   "metadata": {},
   "source": [
    "(where the name and date are replaced by the appropriate values)\n",
    "\n",
    "([back to text](#pd-tim-dir2))"
   ]
  },
  {
   "cell_type": "markdown",
   "id": "c9f35661",
   "metadata": {},
   "source": [
    "### Exercise 3\n",
    "\n",
    "For each item in the list, extract the specified data from `btc_usd`:\n",
    "\n",
    "- July 2017 through August 2017 (inclusive)  \n",
    "- April 25, 2015 to June 10, 2016  \n",
    "- October 31, 2017  \n",
    "\n",
    "\n",
    "([back to text](#pd-tim-dir3))"
   ]
  },
  {
   "cell_type": "markdown",
   "id": "c8e69bde",
   "metadata": {},
   "source": [
    "### Exercise 4\n",
    "\n",
    "Using the `shift` function, determine the week with the largest percent change\n",
    "in the volume of trades (the `\"Volume (BTC)\"` column).\n",
    "\n",
    "Repeat the analysis at the bi-weekly and monthly frequencies.\n",
    "\n",
    "We have data at a *daily* frequency and one week is `7` days.\n",
    "\n",
    "Approximate a month by 30 days."
   ]
  },
  {
   "cell_type": "code",
   "execution_count": null,
   "id": "f4cf874e",
   "metadata": {
    "hide-output": false
   },
   "outputs": [],
   "source": [
    "# your code here"
   ]
  },
  {
   "cell_type": "markdown",
   "id": "5fe703d8",
   "metadata": {},
   "source": [
    "([back to text](#pd-tim-dir4))"
   ]
  },
  {
   "cell_type": "markdown",
   "id": "53add5ee",
   "metadata": {},
   "source": [
    "### Exercise 5\n",
    "\n",
    "Imagine that you have access to the [DeLorean time machine](https://en.wikipedia.org/wiki/DeLorean_time_machine)\n",
    "from “Back to the Future”.\n",
    "\n",
    "You are allowed to use the DeLorean only once, subject to the following\n",
    "conditions:\n",
    "\n",
    "- You may travel back to any day in the past.  \n",
    "- On that day, you may purchase one bitcoin *at market open*.  \n",
    "- You can then take the time machine 30 days into the future and sell your bitcoin *at market close*.  \n",
    "- Then you return to the present, pocketing the profits.  \n",
    "\n",
    "\n",
    "How would you pick the day?\n",
    "\n",
    "Think carefully about what you would need to compute to make the\n",
    "optimal choice. Try writing it out in the markdown cell below so you\n",
    "have a clear description of the *want* operator that we will apply after\n",
    "the exercise.\n",
    "\n",
    "(Note: **Don’t** look too far below, because in the next non-empty cell\n",
    "we have written out our answer.)\n",
    "\n",
    "To make this decision, we want to know …\n",
    "\n",
    "**Your answer here**\n",
    "\n",
    "([back to text](#pd-tim-dir5))"
   ]
  },
  {
   "cell_type": "markdown",
   "id": "6619e04f",
   "metadata": {},
   "source": [
    "### Exercise 6\n",
    "\n",
    "Do the following:\n",
    "\n",
    "1. Write a pandas function that implements your strategy.  \n",
    "1. Pass it to the `agg` method of `rolling_btc`.  \n",
    "1. Extract the `\"Open\"` column from the result.  \n",
    "1. Find the date associated with the maximum value in that column.  \n",
    "\n",
    "\n",
    "How much money did you make? Compare with your neighbor."
   ]
  },
  {
   "cell_type": "code",
   "execution_count": null,
   "id": "5b6daf72",
   "metadata": {
    "hide-output": false
   },
   "outputs": [],
   "source": [
    "def daily_value(df):\n",
    "    # DELETE `pass` below and replace it with your code\n",
    "    pass\n",
    "\n",
    "rolling_btc = btc_usd.rolling(\"30d\")\n",
    "\n",
    "# do steps 2-4 here"
   ]
  },
  {
   "cell_type": "markdown",
   "id": "07e94315",
   "metadata": {},
   "source": [
    "([back to text](#pd-tim-dir6))"
   ]
  },
  {
   "cell_type": "markdown",
   "id": "3e5b337d",
   "metadata": {},
   "source": [
    "### Exercise 7\n",
    "\n",
    "Now suppose you still have access to the DeLorean, but the conditions are\n",
    "slightly different.\n",
    "\n",
    "You may now:\n",
    "\n",
    "- Travel back to the *first day* of any month in the past.  \n",
    "- On that day, you may purchase one bitcoin *at market open*.  \n",
    "- You can then travel to any day *in that month* and sell the bitcoin *at market close*.  \n",
    "- Then return to the present, pocketing the profits.  \n",
    "\n",
    "\n",
    "To which month would you travel? On which day of that month would you return\n",
    "to sell the bitcoin?\n",
    "\n",
    "Discuss with your neighbor what you would need to compute to make the\n",
    "optimal choice. Try writing it out in the markdown cell below so you\n",
    "have a clear description of the *want* operator that we will apply after\n",
    "the exercise.\n",
    "\n",
    "(Note: **Don’t** look too many cells below, because we have written out\n",
    "our answer.)\n",
    "\n",
    "To make the optimal decision we need …\n",
    "\n",
    "**Your answer here**\n",
    "\n",
    "([back to text](#pd-tim-dir7))"
   ]
  },
  {
   "cell_type": "markdown",
   "id": "093d78cb",
   "metadata": {},
   "source": [
    "### Exercise 8\n",
    "\n",
    "Do the following:\n",
    "\n",
    "1. Write a pandas function that implements your strategy.  \n",
    "1. Pass it to the `agg` method of `resampled_btc`.  \n",
    "1. Extract the `\"Open\"` column from the result.  \n",
    "1. Find the date associated with the maximum value in that column.  \n",
    "\n",
    "\n",
    "How much money did you make? Compare with your neighbor.\n",
    "\n",
    "Was this strategy more profitable than the previous one? By how much?"
   ]
  },
  {
   "cell_type": "code",
   "execution_count": null,
   "id": "f89c763b",
   "metadata": {
    "hide-output": false
   },
   "outputs": [],
   "source": [
    "def monthly_value(df):\n",
    "    # DELETE `pass` below and replace it with your code\n",
    "    pass\n",
    "\n",
    "resampled_btc = btc_usd.resample(\"MS\")\n",
    "\n",
    "# Do steps 2-4 here"
   ]
  },
  {
   "cell_type": "markdown",
   "id": "73ac1321",
   "metadata": {},
   "source": [
    "([back to text](#pd-tim-dir8))"
   ]
  }
 ],
 "metadata": {
  "date": 1633586291.5792396,
  "filename": "timeseries.md",
  "kernelspec": {
   "display_name": "Python 3.8.8 ('base')",
   "language": "python",
   "name": "python3"
  },
  "language_info": {
   "codemirror_mode": {
    "name": "ipython",
    "version": 3
   },
   "file_extension": ".py",
   "mimetype": "text/x-python",
   "name": "python",
   "nbconvert_exporter": "python",
   "pygments_lexer": "ipython3",
   "version": "3.8.8"
  },
  "title": "Time series",
  "vscode": {
   "interpreter": {
    "hash": "31582b9feba862c420bc95ad7fac43fb721c474490d1710b4e50ac63470f9531"
   }
  }
 },
 "nbformat": 4,
 "nbformat_minor": 5
}
