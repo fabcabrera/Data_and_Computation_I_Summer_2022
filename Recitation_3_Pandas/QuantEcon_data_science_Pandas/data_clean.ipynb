{
 "cells": [
  {
   "cell_type": "markdown",
   "id": "cdb8b367",
   "metadata": {},
   "source": [
    "# Cleaning Data\n",
    "\n",
    "**Prerequisites**\n",
    "\n",
    "- [Intro](https://datascience.quantecon.org/intro.html)  \n",
    "- [Boolean selection](https://datascience.quantecon.org/basics.html)  \n",
    "- [Indexing](https://datascience.quantecon.org/the_index.html)  \n",
    "\n",
    "\n",
    "**Outcomes**\n",
    "\n",
    "- Be able to use string methods to clean data that comes as a string  \n",
    "- Be able to drop missing data  \n",
    "- Use cleaning methods to prepare and analyze a real dataset  \n",
    "\n",
    "\n",
    "**Data**\n",
    "\n",
    "- Item information from about 3,000 Chipotle meals from about 1,800\n",
    "  Grubhub orders  "
   ]
  },
  {
   "cell_type": "code",
   "execution_count": null,
   "id": "109a1ba7",
   "metadata": {
    "hide-output": false
   },
   "outputs": [],
   "source": [
    "# Uncomment following line to install on colab\n",
    "#! pip install "
   ]
  },
  {
   "cell_type": "code",
   "execution_count": null,
   "id": "2d80515b",
   "metadata": {
    "hide-output": false
   },
   "outputs": [],
   "source": [
    "import pandas as pd\n",
    "import numpy as np"
   ]
  },
  {
   "cell_type": "markdown",
   "id": "876d69ad",
   "metadata": {},
   "source": [
    "## Cleaning Data\n",
    "\n",
    "For many data projects, a [significant proportion of\n",
    "time](https://www.forbes.com/sites/gilpress/2016/03/23/data-preparation-most-time-consuming-least-enjoyable-data-science-task-survey-says/#74d447456f63)\n",
    "is spent collecting and cleaning the data — not performing the analysis.\n",
    "\n",
    "This non-analysis work is often called “data cleaning”.\n",
    "\n",
    "pandas provides very powerful data cleaning tools, which we\n",
    "will demonstrate using the following dataset."
   ]
  },
  {
   "cell_type": "code",
   "execution_count": null,
   "id": "7abc617d",
   "metadata": {
    "hide-output": false
   },
   "outputs": [],
   "source": [
    "df = pd.DataFrame({\"numbers\": [\"#23\", \"#24\", \"#18\", \"#14\", \"#12\", \"#10\", \"#35\"],\n",
    "                   \"nums\": [\"23\", \"24\", \"18\", \"14\", np.nan, \"XYZ\", \"35\"],\n",
    "                   \"colors\": [\"green\", \"red\", \"yellow\", \"orange\", \"purple\", \"blue\", \"pink\"],\n",
    "                   \"other_column\": [0, 1, 0, 2, 1, 0, 2]})\n",
    "df"
   ]
  },
  {
   "cell_type": "markdown",
   "id": "6b3b7c21",
   "metadata": {},
   "source": [
    "What would happen if we wanted to try and compute the mean of\n",
    "`numbers`?"
   ]
  },
  {
   "cell_type": "code",
   "execution_count": null,
   "id": "d0c0814e",
   "metadata": {
    "hide-output": false
   },
   "outputs": [],
   "source": [
    "df[\"numbers\"].mean()"
   ]
  },
  {
   "cell_type": "markdown",
   "id": "1343cfbc",
   "metadata": {},
   "source": [
    "It throws an error!\n",
    "\n",
    "Can you figure out why?\n",
    "\n",
    "When looking at error messages, start at the very bottom.\n",
    "\n",
    "The final error says, `TypeError: Could not convert #23#24... to numeric`."
   ]
  },
  {
   "cell_type": "markdown",
   "id": "f7fea6bf",
   "metadata": {},
   "source": [
    "## Exercise\n",
    "\n",
    "See exercise 1 in the [exercise list](#pd-cln-ex)."
   ]
  },
  {
   "cell_type": "markdown",
   "id": "2505a56e",
   "metadata": {},
   "source": [
    "## String Methods\n",
    "\n",
    "Our solution to the previous exercise was to remove the `#` by using\n",
    "the `replace` string method: `int(c2n.replace(\"#\", \"\"))`.\n",
    "\n",
    "One way to make this change to every element of a column would be to\n",
    "loop through all elements of the column and apply the desired string\n",
    "methods…"
   ]
  },
  {
   "cell_type": "code",
   "execution_count": null,
   "id": "fbe911d4",
   "metadata": {
    "hide-output": false
   },
   "outputs": [],
   "source": [
    "%%time\n",
    "\n",
    "# Iterate over all rows\n",
    "for row in df.iterrows():\n",
    "\n",
    "    # `iterrows` method produces a tuple with two elements...\n",
    "    # The first element is an index and the second is a Series with the data from that row\n",
    "    index_value, column_values = row\n",
    "\n",
    "    # Apply string method\n",
    "    clean_number = int(column_values[\"numbers\"].replace(\"#\", \"\"))\n",
    "\n",
    "    # The `at` method is very similar to the `loc` method, but it is specialized\n",
    "    # for accessing single elements at a time... We wanted to use it here to give\n",
    "    # the loop the best chance to beat a faster method which we show you next.\n",
    "    df.at[index_value, \"numbers_loop\"] = clean_number"
   ]
  },
  {
   "cell_type": "markdown",
   "id": "30d00c3e",
   "metadata": {},
   "source": [
    "While this is fast for a small dataset like this, this method slows for larger datasets.\n",
    "\n",
    "One *significantly* faster (and easier) method is to apply a string\n",
    "method to an entire column of data.\n",
    "\n",
    "Most methods that are available to a Python string (we learned a\n",
    "few of them in the [strings lecture](https://datascience.quantecon.org/../python_fundamentals/basics.html)) are\n",
    "also available to a pandas Series that has `dtype` object.\n",
    "\n",
    "We access them by doing `s.str.method_name` where `method_name` is\n",
    "the name of the method.\n",
    "\n",
    "When we apply the method to a Series, it is applied to all rows in the\n",
    "Series in one shot!\n",
    "\n",
    "Let’s redo our previous example using a pandas `.str` method."
   ]
  },
  {
   "cell_type": "code",
   "execution_count": null,
   "id": "6ef54dc3",
   "metadata": {
    "hide-output": false
   },
   "outputs": [],
   "source": [
    "%%time\n",
    "\n",
    "# ~2x faster than loop... However, speed gain increases with size of DataFrame. The\n",
    "# speedup can be in the ballpark of ~100-500x faster for big DataFrames.\n",
    "# See appendix at the end of the lecture for an application on a larger DataFrame\n",
    "df[\"numbers_str\"] = df[\"numbers\"].str.replace(\"#\", \"\")"
   ]
  },
  {
   "cell_type": "markdown",
   "id": "54e06875",
   "metadata": {},
   "source": [
    "We can use `.str` to access almost any string method that works on\n",
    "normal strings. (See the [official\n",
    "documentation](https://pandas.pydata.org/pandas-docs/stable/text.html)\n",
    "for more information.)"
   ]
  },
  {
   "cell_type": "code",
   "execution_count": null,
   "id": "8c1a8b98",
   "metadata": {
    "hide-output": false
   },
   "outputs": [],
   "source": [
    "df[\"colors\"].str.contains(\"p\")"
   ]
  },
  {
   "cell_type": "code",
   "execution_count": null,
   "id": "86a80e79",
   "metadata": {
    "hide-output": false
   },
   "outputs": [],
   "source": [
    "df[\"colors\"].str.capitalize()"
   ]
  },
  {
   "cell_type": "markdown",
   "id": "9cb14f68",
   "metadata": {},
   "source": [
    "## Exercise\n",
    "\n",
    "See exercise 2  in the [exercise list](#pd-cln-ex)."
   ]
  },
  {
   "cell_type": "markdown",
   "id": "a8366357",
   "metadata": {},
   "source": [
    "## Type Conversions\n",
    "\n",
    "In our example above, the `dtype` of the `numbers_str` column shows that pandas still treats\n",
    "it as a string even after we have removed the `\"#\"`.\n",
    "\n",
    "We need to convert this column to numbers.\n",
    "\n",
    "The best way to do this is using the `pd.to_numeric` function.\n",
    "\n",
    "This method attempts to convert whatever is stored in a Series into\n",
    "numeric values\n",
    "\n",
    "For example, after the `\"#\"` removed, the numbers of column\n",
    "`\"numbers\"` are ready to be converted to actual numbers."
   ]
  },
  {
   "cell_type": "code",
   "execution_count": null,
   "id": "c6ec7f88",
   "metadata": {
    "hide-output": false
   },
   "outputs": [],
   "source": [
    "df[\"numbers_numeric\"] = pd.to_numeric(df[\"numbers_str\"])"
   ]
  },
  {
   "cell_type": "code",
   "execution_count": null,
   "id": "e9c58691",
   "metadata": {
    "hide-output": false
   },
   "outputs": [],
   "source": [
    "df.dtypes"
   ]
  },
  {
   "cell_type": "code",
   "execution_count": null,
   "id": "c02eb956",
   "metadata": {
    "hide-output": false
   },
   "outputs": [],
   "source": [
    "df.head()"
   ]
  },
  {
   "cell_type": "markdown",
   "id": "94e1b220",
   "metadata": {},
   "source": [
    "We can convert to other types well.\n",
    "\n",
    "Using the `astype` method, we can convert to any of the supported\n",
    "pandas `dtypes` (recall the [intro lecture](https://datascience.quantecon.org/intro.html)).\n",
    "\n",
    "Below are some examples. (Pay attention to the reported `dtype`)"
   ]
  },
  {
   "cell_type": "code",
   "execution_count": null,
   "id": "12059b39",
   "metadata": {
    "hide-output": false
   },
   "outputs": [],
   "source": [
    "df[\"numbers_numeric\"].astype(str)"
   ]
  },
  {
   "cell_type": "code",
   "execution_count": null,
   "id": "1dfa64b6",
   "metadata": {
    "hide-output": false
   },
   "outputs": [],
   "source": [
    "df[\"numbers_numeric\"].astype(float)"
   ]
  },
  {
   "cell_type": "markdown",
   "id": "26144efd",
   "metadata": {},
   "source": [
    "## Exercise\n",
    "\n",
    "See exercise 3 in the [exercise list](#pd-cln-ex)."
   ]
  },
  {
   "cell_type": "markdown",
   "id": "6685886a",
   "metadata": {},
   "source": [
    "## Missing Data\n",
    "\n",
    "Many datasets have missing data.\n",
    "\n",
    "In our example, we are missing an element from the `\"nums\"` column."
   ]
  },
  {
   "cell_type": "code",
   "execution_count": null,
   "id": "7f5c24c8",
   "metadata": {
    "hide-output": false
   },
   "outputs": [],
   "source": [
    "df"
   ]
  },
  {
   "cell_type": "markdown",
   "id": "84ab6029",
   "metadata": {},
   "source": [
    "We can find missing data by using the `isnull` method."
   ]
  },
  {
   "cell_type": "code",
   "execution_count": null,
   "id": "1a1ca06b",
   "metadata": {
    "hide-output": false
   },
   "outputs": [],
   "source": [
    "df.isnull()"
   ]
  },
  {
   "cell_type": "markdown",
   "id": "d652247a",
   "metadata": {},
   "source": [
    "We might want to know whether particular rows or columns have any\n",
    "missing data.\n",
    "\n",
    "To do this we can use the `.any` method on the boolean DataFrame\n",
    "`df.isnull()`."
   ]
  },
  {
   "cell_type": "code",
   "execution_count": null,
   "id": "5844ed9e",
   "metadata": {
    "hide-output": false
   },
   "outputs": [],
   "source": [
    "df.isnull().any(axis=0)"
   ]
  },
  {
   "cell_type": "code",
   "execution_count": null,
   "id": "128f4b21",
   "metadata": {
    "hide-output": false
   },
   "outputs": [],
   "source": [
    "df.isnull().any(axis=1)"
   ]
  },
  {
   "cell_type": "markdown",
   "id": "4aca33cc",
   "metadata": {},
   "source": [
    "Many approaches have been developed to deal with missing data, but the two most commonly used (and the corresponding DataFrame method) are:\n",
    "\n",
    "- Exclusion: Ignore any data that is missing (`.dropna`).  \n",
    "- Imputation: Compute “predicted” values for the data that is missing\n",
    "  (`.fillna`).  \n",
    "\n",
    "\n",
    "For the advantages and disadvantages of these (and other) approaches,\n",
    "consider reading the [Wikipedia\n",
    "article](https://en.wikipedia.org/wiki/Missing_data).\n",
    "\n",
    "For now, let’s see some examples."
   ]
  },
  {
   "cell_type": "code",
   "execution_count": null,
   "id": "aafc3bed",
   "metadata": {
    "hide-output": false
   },
   "outputs": [],
   "source": [
    "# drop all rows containing a missing observation\n",
    "df.dropna()"
   ]
  },
  {
   "cell_type": "code",
   "execution_count": null,
   "id": "4b2c8fa6",
   "metadata": {
    "hide-output": false
   },
   "outputs": [],
   "source": [
    "# fill the missing values with a specific value\n",
    "df.fillna(value=100)"
   ]
  },
  {
   "cell_type": "code",
   "execution_count": null,
   "id": "8c8e12ee",
   "metadata": {
    "hide-output": false
   },
   "outputs": [],
   "source": [
    "# use the _next_ valid observation to fill the missing data\n",
    "df.fillna(method=\"bfill\")"
   ]
  },
  {
   "cell_type": "code",
   "execution_count": null,
   "id": "0a492cec",
   "metadata": {
    "hide-output": false
   },
   "outputs": [],
   "source": [
    "# use the _previous_ valid observation to fill missing data\n",
    "df.fillna(method=\"ffill\")"
   ]
  },
  {
   "cell_type": "markdown",
   "id": "1adda572",
   "metadata": {},
   "source": [
    "We will see more examples of dealing with missing data in future\n",
    "chapters."
   ]
  },
  {
   "cell_type": "markdown",
   "id": "153663cf",
   "metadata": {},
   "source": [
    "## Case Study\n",
    "\n",
    "We will now use data from an\n",
    "[article](https://www.nytimes.com/interactive/2015/02/17/upshot/what-do-people-actually-order-at-chipotle.html)\n",
    "written by The Upshot at the NYTimes.\n",
    "\n",
    "This data has order information from almost 2,000 Chipotle orders and\n",
    "includes information on what was ordered and how much it cost."
   ]
  },
  {
   "cell_type": "code",
   "execution_count": null,
   "id": "85f0f31b",
   "metadata": {
    "hide-output": false
   },
   "outputs": [],
   "source": [
    "url = \"https://datascience.quantecon.org/assets/data/chipotle_raw.csv.zip\"\n",
    "chipotle = pd.read_csv(url)\n",
    "chipotle.head()"
   ]
  },
  {
   "cell_type": "markdown",
   "id": "ca02c49f",
   "metadata": {},
   "source": [
    "## Exercise\n",
    "\n",
    "See exercise 4 in the [exercise list](#pd-cln-ex)."
   ]
  },
  {
   "cell_type": "markdown",
   "id": "6aac1dec",
   "metadata": {},
   "source": [
    "## Appendix: Performance of `.str` Methods\n",
    "\n",
    "Let’s repeat the “remove the `#`” example from above, but this time on\n",
    "a much larger dataset."
   ]
  },
  {
   "cell_type": "code",
   "execution_count": null,
   "id": "d65ee9a3",
   "metadata": {
    "hide-output": false
   },
   "outputs": [],
   "source": [
    "import numpy as np\n",
    "test = pd.DataFrame({\"floats\": np.round(100*np.random.rand(100000), 2)})\n",
    "test[\"strings\"] = test[\"floats\"].astype(str) + \"%\"\n",
    "test.head()"
   ]
  },
  {
   "cell_type": "code",
   "execution_count": null,
   "id": "ff9e37f3",
   "metadata": {
    "hide-output": false
   },
   "outputs": [],
   "source": [
    "%%time\n",
    "\n",
    "for row in test.iterrows():\n",
    "    index_value, column_values = row\n",
    "    clean_number = column_values[\"strings\"].replace(\"%\", \"\")\n",
    "    test.at[index_value, \"numbers_loop\"] = clean_number"
   ]
  },
  {
   "cell_type": "code",
   "execution_count": null,
   "id": "20dcb0a5",
   "metadata": {
    "hide-output": false
   },
   "outputs": [],
   "source": [
    "%%time\n",
    "test[\"numbers_str_method\"] = test[\"strings\"].str.replace(\"%\", \"\")"
   ]
  },
  {
   "cell_type": "code",
   "execution_count": null,
   "id": "0e81c4f0",
   "metadata": {
    "hide-output": false
   },
   "outputs": [],
   "source": [
    "test[\"numbers_str_method\"].equals(test[\"numbers_loop\"])"
   ]
  },
  {
   "cell_type": "markdown",
   "id": "1dd58168",
   "metadata": {},
   "source": [
    "We got the exact same result in a fraction of the time!\n",
    "\n",
    "\n",
    "<a id='pd-cln-ex'></a>"
   ]
  },
  {
   "cell_type": "markdown",
   "id": "07e5513f",
   "metadata": {},
   "source": [
    "## Exercises"
   ]
  },
  {
   "cell_type": "markdown",
   "id": "8e368204",
   "metadata": {},
   "source": [
    "### Exercise 1\n",
    "\n",
    "Convert the string below into a number."
   ]
  },
  {
   "cell_type": "code",
   "execution_count": null,
   "id": "01433379",
   "metadata": {
    "hide-output": false
   },
   "outputs": [],
   "source": [
    "c2n = \"#39\""
   ]
  },
  {
   "cell_type": "markdown",
   "id": "5a5e4b38",
   "metadata": {},
   "source": [
    "([back to text](#pd-cln-dir1))"
   ]
  },
  {
   "cell_type": "markdown",
   "id": "01064151",
   "metadata": {},
   "source": [
    "### Exercise 2\n",
    "\n",
    "Make a new column called `colors_upper` that contains the elements of\n",
    "`colors` with all uppercase letters.\n",
    "\n",
    "([back to text](#pd-cln-dir2))"
   ]
  },
  {
   "cell_type": "markdown",
   "id": "b3d0feb4",
   "metadata": {},
   "source": [
    "### Exercise 3\n",
    "\n",
    "Convert the column `\"nums\"` to a numeric type using `pd.to_numeric` and\n",
    "save it to the DataFrame as `\"nums_tonumeric\"`.\n",
    "\n",
    "Notice that there is a missing value, and a value that is not a number.\n",
    "\n",
    "Look at the documentation for `pd.to_numeric` and think about how to\n",
    "overcome this.\n",
    "\n",
    "Think about why this could be a bad idea of used without\n",
    "knowing what your data looks like. (Think about what happens when you\n",
    "apply it to the `\"numbers\"` column before replacing the `\"#\"`.)\n",
    "\n",
    "([back to text](#pd-cln-dir3))"
   ]
  },
  {
   "cell_type": "markdown",
   "id": "e9342112",
   "metadata": {},
   "source": [
    "### Exercise 4\n",
    "\n",
    "We’d like you to use this data to answer the following questions.\n",
    "\n",
    "- What is the average price of an item with chicken?  \n",
    "- What is the average price of an item with steak?  \n",
    "- Did chicken or steak produce more revenue (total)?  \n",
    "- How many missing items are there in this dataset? How many missing\n",
    "  items in each column?  \n",
    "\n",
    "\n",
    "Before you will be able to do any of these things you will need to\n",
    "make sure the `item_price` column has a numeric `dtype` (probably\n",
    "float).\n",
    "\n",
    "([back to text](#pd-cln-dir4))"
   ]
  }
 ],
 "metadata": {
  "date": 1633586287.6986141,
  "filename": "data_clean.md",
  "kernelspec": {
   "display_name": "Python",
   "language": "python3",
   "name": "python3"
  },
  "title": "Cleaning Data"
 },
 "nbformat": 4,
 "nbformat_minor": 5
}